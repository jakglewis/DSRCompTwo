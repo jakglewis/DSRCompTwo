{
 "cells": [
  {
   "cell_type": "code",
   "execution_count": 2,
   "metadata": {},
   "outputs": [],
   "source": [
    "# import relevant packages\n",
    "\n",
    "%matplotlib inline\n",
    "\n",
    "import PIL\n",
    "import numpy as np\n",
    "import pandas as pd\n",
    "import torch\n",
    "from easyimages import EasyImageList\n",
    "from matplotlib import pyplot as plt\n",
    "from sklearn.metrics import accuracy_score, log_loss\n",
    "from skorch import *\n",
    "from skorch.callbacks import (\n",
    "    Callback,\n",
    "    CyclicLR,\n",
    "    Freezer,\n",
    "    LRScheduler,\n",
    "    PrintLog,\n",
    "    scoring,\n",
    ")\n",
    "from skorch.utils import *\n",
    "from torch import nn\n",
    "from torch.nn import functional as F\n",
    "from torch.utils.data import DataLoader, Dataset\n",
    "from torchvision import transforms\n",
    "import torch.optim as optim\n",
    "from torch.autograd import Variable\n"
   ]
  },
  {
   "cell_type": "code",
   "execution_count": 59,
   "metadata": {},
   "outputs": [],
   "source": [
    "#\n",
    "import os\n",
    "import pickle\n",
    "os.chdir('/Users/lundr/DSRCompTwo')\n",
    "\n",
    "# Dataframe\n",
    "path_df = \"Pickles/df.pickle\"\n",
    "with open(path_df, 'rb') as data:\n",
    "    df = pickle.load(data)\n",
    "\n",
    "# features_train\n",
    "path_features_train = \"Pickles/features_train.pickle\"\n",
    "with open(path_features_train, 'rb') as data:\n",
    "    features_train = pickle.load(data)\n",
    "\n",
    "# labels_train\n",
    "path_labels_train = \"Pickles/labels_train.pickle\"\n",
    "with open(path_labels_train, 'rb') as data:\n",
    "    labels_train = pickle.load(data)\n",
    "\n",
    "# features_test\n",
    "path_features_test = \"Pickles/features_test.pickle\"\n",
    "with open(path_features_test, 'rb') as data:\n",
    "    features_test = pickle.load(data)\n",
    "\n",
    "# labels_test\n",
    "path_labels_test = \"Pickles/labels_test.pickle\"\n",
    "with open(path_labels_test, 'rb') as data:\n",
    "    labels_test = pickle.load(data)"
   ]
  },
  {
   "cell_type": "code",
   "execution_count": 6,
   "metadata": {},
   "outputs": [],
   "source": [
    "import os\n",
    "import pickle\n",
    "os.chdir('/Users/lundr/DSRCompTwo')"
   ]
  },
  {
   "cell_type": "code",
   "execution_count": 12,
   "metadata": {},
   "outputs": [
    {
     "data": {
      "text/plain": [
       "176     1.0\n",
       "384     0.0\n",
       "856     0.0\n",
       "589     0.0\n",
       "674     0.0\n",
       "       ... \n",
       "986     1.0\n",
       "133     0.0\n",
       "361     1.0\n",
       "1364    0.0\n",
       "451     1.0\n",
       "Name: Category, Length: 1228, dtype: float64"
      ]
     },
     "execution_count": 12,
     "metadata": {},
     "output_type": "execute_result"
    }
   ],
   "source": [
    "labels_train"
   ]
  },
  {
   "cell_type": "code",
   "execution_count": 60,
   "metadata": {},
   "outputs": [],
   "source": [
    "#cpnvert to tensors\n",
    "features_train=torch.tensor(features_train)\n",
    "labels_train=torch.tensor(np.array([labels_train]).reshape(1228,1))\n",
    "features_test=torch.tensor(features_test)\n",
    "labels_test=torch.tensor(np.array([labels_test]).reshape(217,1))\n",
    "\n",
    "#DEVICE = 'cuda' if torch.cuda.is_available() else 'cpu'"
   ]
  },
  {
   "cell_type": "code",
   "execution_count": 45,
   "metadata": {
    "jupyter": {
     "source_hidden": true
    }
   },
   "outputs": [],
   "source": [
    "from torch import nn\n",
    "class Network(nn.Module):\n",
    "    def __init__(self):\n",
    "        super().__init__()\n",
    "        \n",
    "        # Inputs to hidden layer linear transformation\n",
    "        self.hidden = nn.Linear(300, 32)\n",
    "        # Output layer, 10 units - one for each digit\n",
    "        self.output = nn.Linear(32, 2)\n",
    "        \n",
    "        # Define sigmoid activation and softmax output \n",
    "        self.relu = nn.ReLU()\n",
    "        self.sigmoid = nn.Sigmoid()\n",
    "        \n",
    "        #self.softmax = nn.Softmax(dim=1)\n",
    "        \n",
    "    def forward(self, x):\n",
    "        # Pass the input tensor through each of our operations\n",
    "        x = self.hidden(x)\n",
    "        x = self.relu(x)\n",
    "        x = self.output(x)\n",
    "        x = self.sigmoid(x)\n",
    "        "
   ]
  },
  {
   "cell_type": "code",
   "execution_count": 22,
   "metadata": {},
   "outputs": [],
   "source": [
    "class BoWClassifier(nn.Module):  # inheriting from nn.Module!\n",
    "\n",
    "    def __init__(self,num_labels, vocab_size):\n",
    "        # calls the init function of nn.Module.  Dont get confused by syntax,\n",
    "        # just always do it in an nn.Module\n",
    "        super(BoWClassifier, self).__init__()\n",
    "        \n",
    "        self.layer1=nn.Sequential(\n",
    "            nn.Linear(300,32),\n",
    "            nn.ReLU() \n",
    "        )\n",
    "        \n",
    "        self.layer2=nn.Sequential(\n",
    "            nn.Linear(32,1),\n",
    "            nn.Sigmoid() \n",
    "        )\n",
    "#\n",
    "    def forward(self, bow_vec):\n",
    "        # Pass the input through the linear layer,\n",
    "        # then pass that through log_softmax.\n",
    "        # Many non-linearities and other functions are in torch.nn.functional\n",
    "        out = self.layer1(bow_vec)\n",
    "        out = self.layer2(out)\n",
    "        return out\n",
    "\n",
    "\n",
    "#def make_bow_vector(sentence, word_to_ix):\n",
    " #   vec = torch.zeros(len(word_to_ix))\n",
    "  #  for word in sentence:\n",
    "   #     vec[word_to_ix[word]] += 1\n",
    "    #return vec.view(1, -1)\n",
    "\n",
    "\n",
    "#def make_target(label, label_to_ix):\n",
    "#    return torch.LongTensor([label_to_ix[label]])\n",
    "\n",
    "\n",
    "\n"
   ]
  },
  {
   "cell_type": "code",
   "execution_count": 23,
   "metadata": {},
   "outputs": [
    {
     "data": {
      "text/plain": [
       "BoWClassifier(\n",
       "  (layer1): Sequential(\n",
       "    (0): Linear(in_features=300, out_features=32, bias=True)\n",
       "    (1): ReLU()\n",
       "  )\n",
       "  (layer2): Sequential(\n",
       "    (0): Linear(in_features=32, out_features=1, bias=True)\n",
       "    (1): Sigmoid()\n",
       "  )\n",
       ")"
      ]
     },
     "execution_count": 23,
     "metadata": {},
     "output_type": "execute_result"
    }
   ],
   "source": [
    "NUM_LABELS=1\n",
    "VOCAB_SIZE=300\n",
    "model = BoWClassifier(1,300)\n",
    "model"
   ]
  },
  {
   "cell_type": "code",
   "execution_count": 144,
   "metadata": {},
   "outputs": [],
   "source": [
    "\n",
    "\n",
    "# one of ['ASGD','Adadelta', 'Adagrad','Adam', 'Adamax','LBFGS', 'RMSprop','Rprop','SGD',SparseAdam']\n",
    "parameters = model.parameters()\n",
    "optimizer = optim.Adam(model.parameters(), lr=0.001)\n",
    "criterion = nn.BCELoss()\n",
    "\n",
    "#model.to(DEVICE)"
   ]
  },
  {
   "cell_type": "code",
   "execution_count": 58,
   "metadata": {
    "jupyter": {
     "source_hidden": true
    }
   },
   "outputs": [],
   "source": [
    "def process_train_batch(batch):\n",
    "    X, y = batch\n",
    "    return X.to(DEVICE), y.to(DEVICE)\n",
    "\n",
    "\n",
    "def process_eval_batch(batch):\n",
    "    X, y = batch\n",
    "    X = X.to(DEVICE)\n",
    "    y = y.to(DEVICE).detach().cpu().numpy()\n",
    "    return X, y\n",
    "\n",
    "\n",
    "def evaluate_model(model, test_loader, print_info=False):\n",
    "    with torch.no_grad():\n",
    "        model.eval()\n",
    "        collect_results = []\n",
    "        collect_target = []\n",
    "        for batch in test_loader:\n",
    "            X, y = process_eval_batch(batch)\n",
    "            pred = model(X)\n",
    "            collect_results.append(\n",
    "                F.sigmoid(pred, dim=1).detach().cpu().numpy())\n",
    "            collect_target.append(y)\n",
    "\n",
    "        preds_proba = np.concatenate(collect_results)\n",
    "        preds = preds_proba.argmax(axis=1)\n",
    "\n",
    "        targets = np.concatenate(collect_target)\n",
    "\n",
    "        ll = log_loss(targets, preds_proba)\n",
    "        acc = accuracy_score(targets, preds)\n",
    "        if print_info:\n",
    "            print(\"test log-loss: {}\".format(ll))\n",
    "            print(\"overall accuracy:  {}\".format(ac))\n",
    "            #print(classification_report(targets, preds))\n",
    "        model.train()\n",
    "        return ll, acc\n"
   ]
  },
  {
   "cell_type": "code",
   "execution_count": 145,
   "metadata": {},
   "outputs": [],
   "source": [
    "DEVICE='cpu'"
   ]
  },
  {
   "cell_type": "code",
   "execution_count": 146,
   "metadata": {},
   "outputs": [
    {
     "name": "stdout",
     "output_type": "stream",
     "text": [
      "training epoch 0\n",
      "training epoch 1\n",
      "training epoch 2\n",
      "training epoch 3\n",
      "training epoch 4\n",
      "training epoch 5\n",
      "training epoch 6\n",
      "training epoch 7\n",
      "training epoch 8\n",
      "training epoch 9\n",
      "training epoch 10\n",
      "training epoch 11\n",
      "training epoch 12\n",
      "training epoch 13\n",
      "training epoch 14\n",
      "training epoch 15\n",
      "training epoch 16\n",
      "training epoch 17\n",
      "training epoch 18\n",
      "training epoch 19\n",
      "training epoch 20\n",
      "training epoch 21\n",
      "training epoch 22\n",
      "training epoch 23\n",
      "training epoch 24\n",
      "training epoch 25\n",
      "training epoch 26\n",
      "training epoch 27\n",
      "training epoch 28\n",
      "training epoch 29\n",
      "training epoch 30\n",
      "training epoch 31\n",
      "training epoch 32\n",
      "training epoch 33\n",
      "training epoch 34\n",
      "training epoch 35\n",
      "training epoch 36\n",
      "training epoch 37\n",
      "training epoch 38\n",
      "training epoch 39\n",
      "training epoch 40\n",
      "training epoch 41\n",
      "training epoch 42\n",
      "training epoch 43\n",
      "training epoch 44\n",
      "training epoch 45\n",
      "training epoch 46\n",
      "training epoch 47\n",
      "training epoch 48\n",
      "training epoch 49\n"
     ]
    }
   ],
   "source": [
    "X=features_train\n",
    "Y=labels_train\n",
    "N_EPOCHS = 50\n",
    "loss_history = []\n",
    "BATCH_SIZE = 100\n",
    "\n",
    "net=BoWClassifier(1,300)\n",
    "net = net.double() \n",
    "\n",
    "for epoch in range(N_EPOCHS):\n",
    "    print(\"training epoch {}\".format(epoch))\n",
    "    for xsample,ysample in zip(X, Y):\n",
    "        optimizer.zero_grad() \n",
    "        # zero the gradients\n",
    "        # batch preparation\n",
    "        \n",
    "        x = xsample\n",
    "        y = ysample.squeeze()\n",
    "\n",
    "        #x = torch.Tensor(xsample).unsqueeze(0) # tensor([[0.8745, 0.5205]]) torch.Size([1, 2])\n",
    "        #y = torch.Tensor([ysample]).unsqueeze(0) # tensor([[1.]]) torch.Size([1, 1])\n",
    "        x = x.to(DEVICE)\n",
    "        y = y.to(DEVICE)\n",
    "\n",
    "#         What will this do once uncommented?\n",
    "#         if True:\n",
    "#             ix = np.random.randint(0, size=(16,), high=len(X))\n",
    "#             x = torch.tensor((X[ix, :])).float()\n",
    "#             y = torch.tensor(torch.Tensor(Y[ix]).reshape(-1,1)).float()\n",
    "#             x = x.to(DEVICE)\n",
    "#             y = y.to(DEVICE)\n",
    "\n",
    "\n",
    "        # forward pass\n",
    "        out =  net(x) # prediction, y_hat, \n",
    "\n",
    "        # loss calculation\n",
    "        loss = criterion(out, y)\n",
    "        # calculating gradients\n",
    "        loss.backward()\n",
    "\n",
    "        # changing the weights by specified(in the optimizer init) learning rate\n",
    "        optimizer.step()\n",
    "\n",
    "        #append calculated loss to the history\n",
    "        loss  = loss.detach().cpu().numpy()\n",
    "        loss_history.append(loss)   \n",
    "        "
   ]
  },
  {
   "cell_type": "code",
   "execution_count": 32,
   "metadata": {},
   "outputs": [
    {
     "data": {
      "text/plain": [
       "torch.Tensor"
      ]
     },
     "execution_count": 32,
     "metadata": {},
     "output_type": "execute_result"
    }
   ],
   "source": [
    "type(X[0])"
   ]
  },
  {
   "cell_type": "code",
   "execution_count": 147,
   "metadata": {},
   "outputs": [
    {
     "name": "stderr",
     "output_type": "stream",
     "text": [
      "C:\\Users\\lundr\\AppData\\Local\\Continuum\\anaconda3\\envs\\dl\\lib\\site-packages\\ipykernel_launcher.py:5: UserWarning: To copy construct from a tensor, it is recommended to use sourceTensor.clone().detach() or sourceTensor.clone().detach().requires_grad_(True), rather than torch.tensor(sourceTensor).\n",
      "  \"\"\"\n"
     ]
    }
   ],
   "source": [
    "preds=[]\n",
    "actual=[]\n",
    "logprob = []\n",
    "for instance, label in zip(features_test, labels_test):\n",
    "    bow_vec = torch.tensor(instance)\n",
    "    logprobs = net(bow_vec)\n",
    "    #print(logprobs)\n",
    "    pred=1 if logprobs>0.5 else 0\n",
    "    #print('prediction: {}'.format([pred]))\n",
    "    #print('actual: {}'.format(label))\n",
    "    preds.append(pred)\n",
    "    actual.append(label)\n",
    "    logprob.append(logprobs)\n"
   ]
  },
  {
   "cell_type": "code",
   "execution_count": 148,
   "metadata": {},
   "outputs": [
    {
     "name": "stdout",
     "output_type": "stream",
     "text": [
      "Accuracy: 0.465\n"
     ]
    }
   ],
   "source": [
    "preds=torch.tensor(preds, dtype=torch.float64)\n",
    "actual=torch.tensor(actual,dtype=torch.float64)\n",
    "#Accuracy    \n",
    "#value_when_true if condition else value_when_false\n",
    "correct=[]\n",
    "for i in range(len(preds)):\n",
    "    if preds[i] == labels_test.reshape(217,)[i]:\n",
    "        correct.append(1)\n",
    "    else:\n",
    "        correct.append(0)\n",
    "correct =sum(correct)\n",
    "print(\"Accuracy: {:.3f}\".format(correct/len(labels_test)))"
   ]
  },
  {
   "cell_type": "code",
   "execution_count": 150,
   "metadata": {},
   "outputs": [
    {
     "data": {
      "text/plain": [
       "Text(0, 0.5, 'loss (CE)')"
      ]
     },
     "execution_count": 150,
     "metadata": {},
     "output_type": "execute_result"
    },
    {
     "data": {
      "image/png": "[encoded data removed]",
      "text/plain": [
       "<Figure size 432x288 with 1 Axes>"
      ]
     },
     "metadata": {
      "needs_background": "light"
     },
     "output_type": "display_data"
    }
   ],
   "source": [
    "history = pd.DataFrame(loss_history, columns=['loss'])\n",
    "history.loss[:10000].rolling(50).mean().plot()\n",
    "plt.title(\"loss\")\n",
    "plt.xlabel(\"batch number\")\n",
    "plt.ylabel(\"loss (CE)\")\n",
    "\n",
    "\n"
   ]
  },
  {
   "cell_type": "code",
   "execution_count": null,
   "metadata": {},
   "outputs": [],
   "source": []
  }
 ],
 "metadata": {
  "kernelspec": {
   "display_name": "Python 3",
   "language": "python",
   "name": "python3"
  },
  "language_info": {
   "codemirror_mode": {
    "name": "ipython",
    "version": 3
   },
   "file_extension": ".py",
   "mimetype": "text/x-python",
   "name": "python",
   "nbconvert_exporter": "python",
   "pygments_lexer": "ipython3",
   "version": "3.7.4"
  }
 },
 "nbformat": 4,
 "nbformat_minor": 4
}
