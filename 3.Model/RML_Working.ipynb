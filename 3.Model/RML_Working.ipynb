{
 "cells": [
  {
   "cell_type": "code",
   "execution_count": 1,
   "metadata": {},
   "outputs": [],
   "source": [
    "# import relevant packages\n",
    "\n",
    "%matplotlib inline\n",
    "\n",
    "import PIL\n",
    "import numpy as np\n",
    "import pandas as pd\n",
    "import torch\n",
    "from easyimages import EasyImageList\n",
    "from matplotlib import pyplot as plt\n",
    "from sklearn.metrics import accuracy_score, log_loss\n",
    "from skorch import *\n",
    "from skorch.callbacks import (\n",
    "    Callback,\n",
    "    CyclicLR,\n",
    "    Freezer,\n",
    "    LRScheduler,\n",
    "    PrintLog,\n",
    "    scoring,\n",
    ")\n",
    "from skorch.utils import *\n",
    "from torch import nn\n",
    "from torch.nn import functional as F\n",
    "from torch.utils.data import DataLoader, Dataset\n",
    "from torchvision import transforms\n",
    "import torch.optim as optim\n",
    "from torch.autograd import Variable\n",
    "from torch.optim import SGD\n",
    "import os\n",
    "import pickle"
   ]
  },
  {
   "cell_type": "code",
   "execution_count": 2,
   "metadata": {},
   "outputs": [],
   "source": [
    "DEVICE='cpu'"
   ]
  },
  {
   "cell_type": "code",
   "execution_count": 4,
   "metadata": {},
   "outputs": [],
   "source": [
    "# change working directory if you need to \n",
    "#os.getcwd()\n",
    "\n",
    "os.chdir('/Users/lundr/DSRCompTwo')"
   ]
  },
  {
   "cell_type": "code",
   "execution_count": 5,
   "metadata": {},
   "outputs": [],
   "source": [
    "\n",
    "# # Dataframes\n",
    "path_df = \"4.Data/X_bow_train_v2.pkl\"\n",
    "with open(path_df, 'rb') as data:\n",
    "    X_bow_train = pickle.load(data)\n",
    "\n",
    "path_df = \"4.Data/X_bow_val_v2.pkl\"\n",
    "with open(path_df, 'rb') as data:\n",
    "    X_bow_val = pickle.load(data)\n",
    "\n",
    "path_df = \"4.Data/X_TFIDF_train_v2.pkl\"\n",
    "with open(path_df, 'rb') as data:\n",
    "    X_TFIDF_train = pickle.load(data)\n",
    "    \n",
    "path_df = \"4.Data/X_TFIDF_val_v1.pkl\"\n",
    "with open(path_df, 'rb') as data:\n",
    "    X_TFIDF_val = pickle.load(data)\n",
    "\n",
    "path_df = \"4.Data/Y_train_v2.pkl\"\n",
    "with open(path_df, 'rb') as data:\n",
    "    Y_train = pickle.load(data)\n",
    "    \n",
    "path_df = \"4.Data/Y_val_v2.pkl\"\n",
    "with open(path_df, 'rb') as data:\n",
    "    Y_val = pickle.load(data)\n",
    "    \n",
    "\n"
   ]
  },
  {
   "cell_type": "code",
   "execution_count": 6,
   "metadata": {},
   "outputs": [],
   "source": [
    "Y_train = pd.DataFrame(Y_train)\n",
    "Y_train = Y_train.fillna(0)\n",
    "\n",
    "Y_val = pd.DataFrame(Y_val)\n",
    "Y_val = Y_val.fillna(0)"
   ]
  },
  {
   "cell_type": "code",
   "execution_count": 7,
   "metadata": {},
   "outputs": [],
   "source": [
    "#cpnvert to tensors\n",
    "X_bow_train = torch.tensor(X_bow_train.values)\n",
    "X_bow_val = torch.tensor(X_bow_val.values)\n",
    "X_TFIDF_train = torch.tensor(X_TFIDF_train.values)\n",
    "X_TFIDF_val = torch.tensor(X_TFIDF_val.values)\n",
    "\n",
    "Y_train = torch.tensor(Y_train.values)\n",
    "Y_val = torch.tensor(Y_val.values)\n",
    "\n",
    "Y_train = torch.reshape(Y_train,(len(Y_train),1))\n",
    "Y_val = torch.reshape(Y_val,(len(Y_val),1))\n",
    "#DEVICE = 'cuda' if torch.cuda.is_available() else 'cpu'"
   ]
  },
  {
   "cell_type": "code",
   "execution_count": 8,
   "metadata": {},
   "outputs": [],
   "source": [
    "class BoWClassifier(nn.Module):  # inheriting from nn.Module!\n",
    "\n",
    "    def __init__(self,num_labels, vocab_size):\n",
    "        # calls the init function of nn.Module.  Dont get confused by syntax,\n",
    "        # just always do it in an nn.Module\n",
    "        super(BoWClassifier, self).__init__()\n",
    "        \n",
    "        self.layer1=nn.Sequential(\n",
    "            nn.Linear(10225,100),\n",
    "            nn.ReLU() \n",
    "        )\n",
    "        \n",
    "        self.layer2=nn.Sequential(\n",
    "            nn.Linear(100,100),\n",
    "            nn.ReLU() \n",
    "        )\n",
    "        self.layer3=nn.Sequential(\n",
    "            nn.Linear(100,64),\n",
    "            nn.ReLU() \n",
    "        )\n",
    "               \n",
    "        self.layer4=nn.Sequential(\n",
    "            nn.Linear(64,1),\n",
    "            nn.Sigmoid() \n",
    "        )\n",
    "#\n",
    "    def forward(self, x):\n",
    "        # Pass the input through the linear layer,\n",
    "        # then pass that through log_softmax.\n",
    "        # Many non-linearities and other functions are in torch.nn.functional\n",
    "        out = self.layer1(x)\n",
    "        out = self.layer2(out)\n",
    "        out = self.layer3(out)\n",
    "        out = self.layer4(out)\n",
    "\n",
    "        \n",
    "        return out\n",
    "\n",
    "\n"
   ]
  },
  {
   "cell_type": "code",
   "execution_count": 9,
   "metadata": {},
   "outputs": [
    {
     "data": {
      "text/plain": [
       "BoWClassifier(\n",
       "  (layer1): Sequential(\n",
       "    (0): Linear(in_features=10225, out_features=100, bias=True)\n",
       "    (1): ReLU()\n",
       "  )\n",
       "  (layer2): Sequential(\n",
       "    (0): Linear(in_features=100, out_features=100, bias=True)\n",
       "    (1): ReLU()\n",
       "  )\n",
       "  (layer3): Sequential(\n",
       "    (0): Linear(in_features=100, out_features=64, bias=True)\n",
       "    (1): ReLU()\n",
       "  )\n",
       "  (layer4): Sequential(\n",
       "    (0): Linear(in_features=64, out_features=1, bias=True)\n",
       "    (1): Sigmoid()\n",
       "  )\n",
       ")"
      ]
     },
     "execution_count": 9,
     "metadata": {},
     "output_type": "execute_result"
    }
   ],
   "source": [
    "NUM_LABELS=1\n",
    "VOCAB_SIZE=10225\n",
    "model = BoWClassifier(1,10225)\n",
    "model\n",
    "\n",
    "# one of ['ASGD','Adadelta', 'Adagrad','Adam', 'Adamax','LBFGS', 'RMSprop','Rprop','SGD',SparseAdam']\n",
    "parameters = model.parameters()\n",
    "optimizer = optim.Adam(model.parameters(), lr=0.0001)\n",
    "criterion = nn.BCELoss()\n",
    "\n",
    "model.to(DEVICE)"
   ]
  },
  {
   "cell_type": "code",
   "execution_count": 10,
   "metadata": {},
   "outputs": [
    {
     "name": "stdout",
     "output_type": "stream",
     "text": [
      "training epoch 0\n"
     ]
    },
    {
     "name": "stderr",
     "output_type": "stream",
     "text": [
      "C:\\Users\\lundr\\AppData\\Local\\Continuum\\anaconda3\\envs\\dl\\lib\\site-packages\\torch\\nn\\modules\\loss.py:498: UserWarning: Using a target size (torch.Size([])) that is different to the input size (torch.Size([1])) is deprecated. Please ensure they have the same size.\n",
      "  return F.binary_cross_entropy(input, target, weight=self.weight, reduction=self.reduction)\n"
     ]
    },
    {
     "name": "stdout",
     "output_type": "stream",
     "text": [
      "training epoch 1\n"
     ]
    }
   ],
   "source": [
    "X=X_TFIDF_train.float()\n",
    "Y=Y_train.float()\n",
    "N_EPOCHS = 2\n",
    "loss_history = []\n",
    "BATCH_SIZE = 100\n",
    "\n",
    "#model =BoWClassifier(1,10225)\n",
    "#model = model\n",
    "\n",
    "for epoch in range(N_EPOCHS):\n",
    "    print(\"training epoch {}\".format(epoch))\n",
    "    for xsample,ysample in zip(X, Y):\n",
    "         \n",
    "        # zero the gradients\n",
    "        # batch preparation\n",
    "        \n",
    "        x = xsample\n",
    "        y = ysample.squeeze()\n",
    "\n",
    "        #x = torch.Tensor(xsample).unsqueeze(0) # tensor([[0.8745, 0.5205]]) torch.Size([1, 2])\n",
    "        #y = torch.Tensor([ysample]).unsqueeze(0) # tensor([[1.]]) torch.Size([1, 1])\n",
    "        x = x.to(DEVICE)\n",
    "        y = y.to(DEVICE)\n",
    "\n",
    "#         What will this do once uncommented?\n",
    "#         if True:\n",
    "#             ix = np.random.randint(0, size=(16,), high=len(X))\n",
    "#             x = torch.tensor((X[ix, :])).float()\n",
    "#             y = torch.tensor(torch.Tensor(Y[ix]).reshape(-1,1)).float()\n",
    "#             x = x.to(DEVICE)\n",
    "#             y = y.to(DEVICE)\n",
    "\n",
    "\n",
    "        # forward pass\n",
    "        out =   model(x) # prediction, y_hat, \n",
    "\n",
    "        # loss calculation\n",
    "        loss = criterion(out, y)\n",
    "        # calculating gradients\n",
    "        optimizer.zero_grad()\n",
    "        loss.backward()\n",
    "        \n",
    "        # changing the weights by specified(in the optimizer init) learning rate\n",
    "        optimizer.step()\n",
    "\n",
    "        #append calculated loss to the history\n",
    "        loss  = loss.detach().cpu().numpy()\n",
    "        loss_history.append(loss)   \n",
    "        "
   ]
  },
  {
   "cell_type": "code",
   "execution_count": 11,
   "metadata": {
    "collapsed": true,
    "jupyter": {
     "outputs_hidden": true
    }
   },
   "outputs": [
    {
     "data": {
      "text/plain": [
       "Parameter containing:\n",
       "tensor([[ 0.0137, -0.0260, -0.0321,  ..., -0.0569,  0.0281,  0.0498],\n",
       "        [ 0.0470, -0.0510,  0.0386,  ..., -0.0541, -0.0519, -0.0534],\n",
       "        [-0.0530,  0.0414,  0.0127,  ...,  0.0510, -0.0351,  0.0532],\n",
       "        ...,\n",
       "        [-0.0277,  0.0484,  0.0006,  ...,  0.0517,  0.0063, -0.0028],\n",
       "        [-0.0257, -0.0129, -0.0302,  ...,  0.0157, -0.0352, -0.0552],\n",
       "        [ 0.0499,  0.0126, -0.0209,  ..., -0.0072,  0.0262,  0.0327]],\n",
       "       dtype=torch.float64, requires_grad=True)"
      ]
     },
     "execution_count": 11,
     "metadata": {},
     "output_type": "execute_result"
    }
   ],
   "source": [
    "#net.layer1[0].weight"
   ]
  },
  {
   "cell_type": "code",
   "execution_count": 12,
   "metadata": {},
   "outputs": [
    {
     "name": "stderr",
     "output_type": "stream",
     "text": [
      "C:\\Users\\lundr\\AppData\\Local\\Continuum\\anaconda3\\envs\\dl\\lib\\site-packages\\ipykernel_launcher.py:8: UserWarning: To copy construct from a tensor, it is recommended to use sourceTensor.clone().detach() or sourceTensor.clone().detach().requires_grad_(True), rather than torch.tensor(sourceTensor).\n",
      "  \n"
     ]
    }
   ],
   "source": [
    "X_TFIDF_val=X_TFIDF_val.float()\n",
    "Y_val=Y_val.float()\n",
    "\n",
    "preds=[]\n",
    "actual=[]\n",
    "logprob = []\n",
    "for instance, label in zip(X_TFIDF_val, Y_val):\n",
    "    bow_vec = torch.tensor(instance)\n",
    "    logprobs = model(bow_vec)\n",
    "    #print(logprobs)\n",
    "    pred=1 if logprobs>0.5 else 0\n",
    "    #print('prediction: {}'.format([pred]))\n",
    "    #print('actual: {}'.format(label))\n",
    "    preds.append(pred)\n",
    "    actual.append(label)\n",
    "    logprob.append(logprobs)\n"
   ]
  },
  {
   "cell_type": "code",
   "execution_count": 109,
   "metadata": {},
   "outputs": [
    {
     "name": "stdout",
     "output_type": "stream",
     "text": [
      "Accuracy: 0.536\n"
     ]
    }
   ],
   "source": [
    "Y_val=Y_val.double()\n",
    "\n",
    "preds=torch.tensor(preds, dtype=torch.float64)\n",
    "actual=torch.tensor(actual,dtype=torch.float64)\n",
    "#Accuracy    \n",
    "#value_when_true if condition else value_when_false\n",
    "correct=[]\n",
    "for i in range(len(preds)):\n",
    "    if preds[i] == Y_val[i]:\n",
    "        correct.append(1)\n",
    "    else:\n",
    "        correct.append(0)\n",
    "correct =sum(correct)\n",
    "print(\"Accuracy: {:.3f}\".format(correct/len(Y_val)))\n"
   ]
  },
  {
   "cell_type": "code",
   "execution_count": 110,
   "metadata": {},
   "outputs": [
    {
     "name": "stdout",
     "output_type": "stream",
     "text": [
      "0.5138733407964177\n"
     ]
    }
   ],
   "source": [
    "from sklearn.metrics import roc_auc_score\n",
    "\n",
    "metric = roc_auc_score(Y_val, preds)\n",
    "print(metric)"
   ]
  },
  {
   "cell_type": "code",
   "execution_count": 105,
   "metadata": {},
   "outputs": [
    {
     "data": {
      "text/plain": [
       "Text(0, 0.5, 'loss (CE)')"
      ]
     },
     "execution_count": 105,
     "metadata": {},
     "output_type": "execute_result"
    },
    {
     "data": {
      "image/png": "[encoded data removed]",
      "text/plain": [
       "<Figure size 432x288 with 1 Axes>"
      ]
     },
     "metadata": {
      "needs_background": "light"
     },
     "output_type": "display_data"
    }
   ],
   "source": [
    "history = pd.DataFrame(loss_history, columns=['loss'])\n",
    "history.loss[:10000].rolling(50).mean().plot()\n",
    "plt.title(\"loss\")\n",
    "plt.xlabel(\"batch number\")\n",
    "plt.ylabel(\"loss (CE)\")\n",
    "\n"
   ]
  },
  {
   "cell_type": "code",
   "execution_count": null,
   "metadata": {},
   "outputs": [],
   "source": []
  }
 ],
 "metadata": {
  "kernelspec": {
   "display_name": "Python 3",
   "language": "python",
   "name": "python3"
  },
  "language_info": {
   "codemirror_mode": {
    "name": "ipython",
    "version": 3
   },
   "file_extension": ".py",
   "mimetype": "text/x-python",
   "name": "python",
   "nbconvert_exporter": "python",
   "pygments_lexer": "ipython3",
   "version": "3.7.4"
  }
 },
 "nbformat": 4,
 "nbformat_minor": 4
}
