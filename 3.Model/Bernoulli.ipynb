{
 "cells": [
  {
   "cell_type": "code",
   "execution_count": 1,
   "metadata": {},
   "outputs": [
    {
     "ename": "ModuleNotFoundError",
     "evalue": "No module named 'nltk'",
     "output_type": "error",
     "traceback": [
      "\u001b[0;31m---------------------------------------------------------------------------\u001b[0m",
      "\u001b[0;31mModuleNotFoundError\u001b[0m                       Traceback (most recent call last)",
      "\u001b[0;32m<ipython-input-1-6e4ae7308ab5>\u001b[0m in \u001b[0;36m<module>\u001b[0;34m\u001b[0m\n\u001b[1;32m      8\u001b[0m \u001b[0;32mfrom\u001b[0m \u001b[0mdatetime\u001b[0m \u001b[0;32mimport\u001b[0m \u001b[0mdate\u001b[0m\u001b[0;34m\u001b[0m\u001b[0;34m\u001b[0m\u001b[0m\n\u001b[1;32m      9\u001b[0m \u001b[0;34m\u001b[0m\u001b[0m\n\u001b[0;32m---> 10\u001b[0;31m \u001b[0;32mfrom\u001b[0m \u001b[0mnltk\u001b[0m\u001b[0;34m.\u001b[0m\u001b[0mcorpus\u001b[0m \u001b[0;32mimport\u001b[0m \u001b[0mstopwords\u001b[0m\u001b[0;34m\u001b[0m\u001b[0;34m\u001b[0m\u001b[0m\n\u001b[0m\u001b[1;32m     11\u001b[0m \u001b[0;32mfrom\u001b[0m \u001b[0mnltk\u001b[0m\u001b[0;34m.\u001b[0m\u001b[0mtokenize\u001b[0m \u001b[0;32mimport\u001b[0m \u001b[0mRegexpTokenizer\u001b[0m\u001b[0;34m\u001b[0m\u001b[0;34m\u001b[0m\u001b[0m\n\u001b[1;32m     12\u001b[0m \u001b[0;32mfrom\u001b[0m \u001b[0mnltk\u001b[0m\u001b[0;34m.\u001b[0m\u001b[0mstem\u001b[0m\u001b[0;34m.\u001b[0m\u001b[0mporter\u001b[0m \u001b[0;32mimport\u001b[0m \u001b[0mPorterStemmer\u001b[0m\u001b[0;34m\u001b[0m\u001b[0;34m\u001b[0m\u001b[0m\n",
      "\u001b[0;31mModuleNotFoundError\u001b[0m: No module named 'nltk'"
     ]
    }
   ],
   "source": [
    "import pandas as pd\n",
    "from pandas import Series,DataFrame\n",
    "import numpy as np\n",
    "import warnings\n",
    "warnings.simplefilter(action='ignore', category=FutureWarning)\n",
    "import pickle\n",
    "\n",
    "from datetime import date\n",
    "\n",
    "from nltk.corpus import stopwords\n",
    "from nltk.tokenize import RegexpTokenizer\n",
    "from nltk.stem.porter import PorterStemmer\n",
    "\n",
    "from sklearn.feature_extraction.text import CountVectorizer\n",
    "from sklearn.feature_extraction.text import TfidfTransformer\n",
    "from sklearn.naive_bayes import MultinomialNB\n",
    "from sklearn.naive_bayes import BernoulliNB\n",
    "from sklearn.pipeline import Pipeline\n",
    "from sklearn.metrics import classification_report\n",
    "from sklearn.metrics import confusion_matrix\n",
    "from sklearn.metrics import roc_auc_score\n",
    "from sklearn.metrics import roc_curve, auc,precision_score, accuracy_score, recall_score, f1_score\n",
    "from scipy import interp\n",
    "\n",
    "#Visualization\n",
    "import matplotlib.pyplot as plt\n",
    "import seaborn as sns"
   ]
  },
  {
   "cell_type": "code",
   "execution_count": 70,
   "metadata": {},
   "outputs": [
    {
     "data": {
      "text/plain": [
       "'/Users/Jak/Project_code/DSRCompTwo/3.Model'"
      ]
     },
     "execution_count": 70,
     "metadata": {},
     "output_type": "execute_result"
    }
   ],
   "source": [
    "import os\n",
    "os.getcwd()"
   ]
  },
  {
   "cell_type": "code",
   "execution_count": 71,
   "metadata": {},
   "outputs": [],
   "source": [
    "path = \"/Users/Jak/Project_code/DSRCompTwo/4.Data/Y_all_v3.pkl\""
   ]
  },
  {
   "cell_type": "code",
   "execution_count": 72,
   "metadata": {},
   "outputs": [],
   "source": [
    "with open(path, \"rb\") as data: \n",
    "    y_labels = pickle.load(data)"
   ]
  },
  {
   "cell_type": "code",
   "execution_count": 73,
   "metadata": {},
   "outputs": [
    {
     "data": {
      "text/html": [
       "<div>\n",
       "<style scoped>\n",
       "    .dataframe tbody tr th:only-of-type {\n",
       "        vertical-align: middle;\n",
       "    }\n",
       "\n",
       "    .dataframe tbody tr th {\n",
       "        vertical-align: top;\n",
       "    }\n",
       "\n",
       "    .dataframe thead th {\n",
       "        text-align: right;\n",
       "    }\n",
       "</style>\n",
       "<table border=\"1\" class=\"dataframe\">\n",
       "  <thead>\n",
       "    <tr style=\"text-align: right;\">\n",
       "      <th></th>\n",
       "      <th>Label</th>\n",
       "    </tr>\n",
       "    <tr>\n",
       "      <th>Date</th>\n",
       "      <th></th>\n",
       "    </tr>\n",
       "  </thead>\n",
       "  <tbody>\n",
       "    <tr>\n",
       "      <th>2008-08-08</th>\n",
       "      <td>0</td>\n",
       "    </tr>\n",
       "    <tr>\n",
       "      <th>2008-08-11</th>\n",
       "      <td>1</td>\n",
       "    </tr>\n",
       "    <tr>\n",
       "      <th>2008-08-12</th>\n",
       "      <td>0</td>\n",
       "    </tr>\n",
       "    <tr>\n",
       "      <th>2008-08-13</th>\n",
       "      <td>0</td>\n",
       "    </tr>\n",
       "    <tr>\n",
       "      <th>2008-08-14</th>\n",
       "      <td>1</td>\n",
       "    </tr>\n",
       "    <tr>\n",
       "      <th>...</th>\n",
       "      <td>...</td>\n",
       "    </tr>\n",
       "    <tr>\n",
       "      <th>2014-11-14</th>\n",
       "      <td>0</td>\n",
       "    </tr>\n",
       "    <tr>\n",
       "      <th>2014-11-17</th>\n",
       "      <td>1</td>\n",
       "    </tr>\n",
       "    <tr>\n",
       "      <th>2014-11-18</th>\n",
       "      <td>1</td>\n",
       "    </tr>\n",
       "    <tr>\n",
       "      <th>2014-11-19</th>\n",
       "      <td>0</td>\n",
       "    </tr>\n",
       "    <tr>\n",
       "      <th>2014-11-20</th>\n",
       "      <td>1</td>\n",
       "    </tr>\n",
       "  </tbody>\n",
       "</table>\n",
       "<p>1584 rows × 1 columns</p>\n",
       "</div>"
      ],
      "text/plain": [
       "            Label\n",
       "Date             \n",
       "2008-08-08      0\n",
       "2008-08-11      1\n",
       "2008-08-12      0\n",
       "2008-08-13      0\n",
       "2008-08-14      1\n",
       "...           ...\n",
       "2014-11-14      0\n",
       "2014-11-17      1\n",
       "2014-11-18      1\n",
       "2014-11-19      0\n",
       "2014-11-20      1\n",
       "\n",
       "[1584 rows x 1 columns]"
      ]
     },
     "execution_count": 73,
     "metadata": {},
     "output_type": "execute_result"
    }
   ],
   "source": [
    "y_labels"
   ]
  },
  {
   "cell_type": "code",
   "execution_count": 74,
   "metadata": {},
   "outputs": [],
   "source": [
    "#List to keep different methods scores to compare\n",
    "ScoreSummaryByMethod=[]"
   ]
  },
  {
   "cell_type": "code",
   "execution_count": 75,
   "metadata": {},
   "outputs": [],
   "source": [
    "df=pd.read_csv('../0.Raw_data/train/Combined_News_DJIA_train.csv')\n",
    "df['Combined']=df.iloc[:,2:27].apply(lambda row: ''.join(str(row.values)), axis=1)\n",
    "\n",
    "y_labels = y_labels.reset_index()\n",
    "\n",
    "df['Label'] = y_labels['Label']"
   ]
  },
  {
   "cell_type": "code",
   "execution_count": 76,
   "metadata": {},
   "outputs": [
    {
     "data": {
      "text/html": [
       "<div>\n",
       "<style scoped>\n",
       "    .dataframe tbody tr th:only-of-type {\n",
       "        vertical-align: middle;\n",
       "    }\n",
       "\n",
       "    .dataframe tbody tr th {\n",
       "        vertical-align: top;\n",
       "    }\n",
       "\n",
       "    .dataframe thead th {\n",
       "        text-align: right;\n",
       "    }\n",
       "</style>\n",
       "<table border=\"1\" class=\"dataframe\">\n",
       "  <thead>\n",
       "    <tr style=\"text-align: right;\">\n",
       "      <th></th>\n",
       "      <th>Label</th>\n",
       "      <th>Combined</th>\n",
       "    </tr>\n",
       "  </thead>\n",
       "  <tbody>\n",
       "    <tr>\n",
       "      <th>1329</th>\n",
       "      <td>1</td>\n",
       "      <td>[nan 'BBC News - Huge bomb hits Syria governme...</td>\n",
       "    </tr>\n",
       "    <tr>\n",
       "      <th>1330</th>\n",
       "      <td>0</td>\n",
       "      <td>['Amsterdam pays alcoholics in beer to clean s...</td>\n",
       "    </tr>\n",
       "    <tr>\n",
       "      <th>1331</th>\n",
       "      <td>0</td>\n",
       "      <td>['LG Smart TVs logging USB filenames and viewi...</td>\n",
       "    </tr>\n",
       "    <tr>\n",
       "      <th>1332</th>\n",
       "      <td>1</td>\n",
       "      <td>[\"Wikipedia names Texas PR firm over false man...</td>\n",
       "    </tr>\n",
       "    <tr>\n",
       "      <th>1333</th>\n",
       "      <td>1</td>\n",
       "      <td>['Richard Branson says Virgin Galactic will ac...</td>\n",
       "    </tr>\n",
       "  </tbody>\n",
       "</table>\n",
       "</div>"
      ],
      "text/plain": [
       "      Label                                           Combined\n",
       "1329      1  [nan 'BBC News - Huge bomb hits Syria governme...\n",
       "1330      0  ['Amsterdam pays alcoholics in beer to clean s...\n",
       "1331      0  ['LG Smart TVs logging USB filenames and viewi...\n",
       "1332      1  [\"Wikipedia names Texas PR firm over false man...\n",
       "1333      1  ['Richard Branson says Virgin Galactic will ac..."
      ]
     },
     "execution_count": 76,
     "metadata": {},
     "output_type": "execute_result"
    }
   ],
   "source": [
    "#train data\n",
    "train=df.loc[(pd.to_datetime(df[\"Date\"]) <= date(2013,11,15)),['Label','Combined']]\n",
    "train.head()\n",
    "\n",
    "#test data\n",
    "test=df.loc[(pd.to_datetime(df[\"Date\"]) > date(2013,11,15)),['Label','Combined']]\n",
    "test.head()"
   ]
  },
  {
   "cell_type": "code",
   "execution_count": 77,
   "metadata": {},
   "outputs": [],
   "source": [
    "def text_process(text):\n",
    "    \"\"\"\n",
    "    Takes in a string of text, then performs the following:\n",
    "    1. Tokenizes and removes punctuation\n",
    "    2. Removes  stopwords\n",
    "    3. Stems\n",
    "    4. Returns a list of the cleaned text\n",
    "    \"\"\"\n",
    "    if pd.isna(text):\n",
    "        return []\n",
    "    \n",
    "    if pd.isnull(text):\n",
    "        return []\n",
    "    # tokenizing\n",
    "    tokenizer = RegexpTokenizer(r'\\w+')\n",
    "    text_processed=tokenizer.tokenize(text)\n",
    "    \n",
    "    # removing any stopwords\n",
    "    text_processed = [word.lower() for word in text_processed if word.lower() not in stopwords.words('english')]\n",
    "    \n",
    "    # steming\n",
    "    porter_stemmer = PorterStemmer()\n",
    "    \n",
    "    text_processed = [porter_stemmer.stem(word) for word in text_processed]\n",
    "    \n",
    "    try:\n",
    "        text_processed.remove('b')\n",
    "    except: \n",
    "        pass\n",
    "\n",
    "    return text_processed\n",
    "    "
   ]
  },
  {
   "cell_type": "code",
   "execution_count": 78,
   "metadata": {},
   "outputs": [],
   "source": [
    "def ROCCurves (Actual, Predicted):\n",
    "    '''\n",
    "    Plot ROC curves for the multiclass problem\n",
    "    based on http://scikit-learn.org/stable/auto_examples/model_selection/plot_roc.html\n",
    "    '''\n",
    "    # Compute ROC curve and ROC area for each class\n",
    "    n_classes=2\n",
    "    fpr = dict()\n",
    "    tpr = dict()\n",
    "    roc_auc = dict()\n",
    "    for i in range(n_classes):\n",
    "        fpr[i], tpr[i], _ = roc_curve(Actual.values, Predicted)\n",
    "        roc_auc[i] = auc(fpr[i], tpr[i])\n",
    "\n",
    "    # Compute micro-average ROC curve and ROC area\n",
    "    fpr[\"micro\"], tpr[\"micro\"], _ = roc_curve(Actual.ravel(), Predicted.ravel())\n",
    "    roc_auc[\"micro\"] = auc(fpr[\"micro\"], tpr[\"micro\"])\n",
    "    ##############################################################################\n",
    "    # Plot ROC curves for the multiclass problem\n",
    "\n",
    "    # Compute macro-average ROC curve and ROC area\n",
    "\n",
    "    # First aggregate all false positive rates\n",
    "\n",
    "    all_fpr = np.unique(np.concatenate([fpr[i] for i in range(n_classes)]))\n",
    "\n",
    "    # Then interpolate all ROC curves at this points\n",
    "    mean_tpr = np.zeros_like(all_fpr)\n",
    "    for i in range(n_classes):\n",
    "        mean_tpr += interp(all_fpr, fpr[i], tpr[i])\n",
    "\n",
    "    # Finally average it and compute AUC\n",
    "    mean_tpr /= n_classes\n",
    "\n",
    "    fpr[\"macro\"] = all_fpr\n",
    "    tpr[\"macro\"] = mean_tpr\n",
    "    roc_auc[\"macro\"] = auc(fpr[\"macro\"], tpr[\"macro\"])\n",
    "\n",
    "    # Plot all ROC curves\n",
    "    plt.figure()\n",
    "    plt.plot(fpr[\"micro\"], tpr[\"micro\"],\n",
    "         label='micro-average ROC curve (area = {0:0.2f})'\n",
    "               ''.format(roc_auc[\"micro\"]),\n",
    "         linewidth=2)\n",
    "\n",
    "    plt.plot(fpr[\"macro\"], tpr[\"macro\"],\n",
    "         label='macro-average ROC curve (area = {0:0.2f})'\n",
    "               ''.format(roc_auc[\"macro\"]),\n",
    "         linewidth=2)\n",
    "\n",
    "    for i in range(n_classes):\n",
    "        plt.plot(fpr[i], tpr[i], label='ROC curve of class {0} (area = {1:0.2f})'\n",
    "                                   ''.format(i, roc_auc[i]))\n",
    "\n",
    "    plt.plot([0, 1], [0, 1], 'k--')\n",
    "    plt.xlim([0.0, 1.0])\n",
    "    plt.ylim([0.0, 1.05])\n",
    "    plt.xlabel('False Positive Rate')\n",
    "    plt.ylabel('True Positive Rate')\n",
    "    plt.title('Some extension of Receiver operating characteristic to multi-class')\n",
    "    plt.legend(loc=\"lower right\")"
   ]
  },
  {
   "cell_type": "code",
   "execution_count": 79,
   "metadata": {},
   "outputs": [],
   "source": [
    "def heatmap(data, rotate_xticks=True):\n",
    "    fig, ax = plt.subplots()\n",
    "    heatmap = sns.heatmap(data, cmap=plt.cm.Blues)\n",
    "    ax.xaxis.tick_top()\n",
    "    if rotate_xticks:\n",
    "        plt.xticks(rotation=90)\n",
    "    plt.yticks(rotation=0)"
   ]
  },
  {
   "cell_type": "code",
   "execution_count": 80,
   "metadata": {},
   "outputs": [],
   "source": [
    "def plot_classification_report(classification_report):     \n",
    "    lines = classification_report.split('\\n')\n",
    "    classes = []\n",
    "    plotMat = []\n",
    "    for line in lines[2 : (len(lines) - 3)]:\n",
    "        t = line.split()\n",
    "        classes.append(t[0])\n",
    "        v = [float(x) for x in t[1: len(t) - 1]]\n",
    "        plotMat.append(v)\n",
    "    aveTotal = lines[len(lines) - 1].split()\n",
    "    classes.append('avg/total')\n",
    "    vAveTotal = [float(x) for x in t[1:len(aveTotal) - 1]]\n",
    "    plotMat.append(vAveTotal)\n",
    "    df_classification_report = DataFrame(plotMat, index=classes,columns=['precision', 'recall', 'f1-score'])\n",
    "    heatmap(df_classification_report)\n",
    "\n",
    "def plot_confusion_matrix(confusion_matrix,classes=['0','1']):\n",
    "    df_confusion_matrix = DataFrame(confusion_matrix, index=classes,columns=classes)\n",
    "    heatmap(df_confusion_matrix,False)"
   ]
  },
  {
   "cell_type": "code",
   "execution_count": 81,
   "metadata": {},
   "outputs": [],
   "source": [
    "def Evaluation (Method,Comment,Actual, Predicted):\n",
    "    '''\n",
    "        Prints and plots\n",
    "        - classification report\n",
    "        - confusion matrix\n",
    "        - ROC-AUC\n",
    "    '''\n",
    "    print (Method)\n",
    "    print (Comment)\n",
    "    print (classification_report(Actual,Predicted))\n",
    "    #plot_classification_report(classification_report(Actual,Predicted))\n",
    "    print ('Confussion matrix:\\n', confusion_matrix(Actual,Predicted))\n",
    "    #plot_confusion_matrix(confusion_matrix(Actual,Predicted))\n",
    "    ROC_AUC=roc_auc_score(Actual,Predicted)\n",
    "    print ('ROC-AUC: ' + str(ROC_AUC))\n",
    "    #ROCCurves (Actual,Predicted)\n",
    "    Precision=precision_score(Actual,Predicted)\n",
    "    Accuracy=accuracy_score(Actual,Predicted)\n",
    "    Recall=recall_score(Actual,Predicted)\n",
    "    F1=f1_score(Actual,Predicted)\n",
    "    ScoreSummaryByMethod.append([Method,Comment,ROC_AUC,Precision,Accuracy,Recall,F1])"
   ]
  },
  {
   "cell_type": "code",
   "execution_count": 82,
   "metadata": {},
   "outputs": [
    {
     "name": "stdout",
     "output_type": "stream",
     "text": [
      "MultinomialNB\n",
      "no shift, no n-grams, combined Top news\n",
      "             precision    recall  f1-score   support\n",
      "\n",
      "          0       0.00      0.00      0.00       112\n",
      "          1       0.56      1.00      0.72       143\n",
      "\n",
      "avg / total       0.31      0.56      0.40       255\n",
      "\n",
      "Confussion matrix:\n",
      " [[  0 112]\n",
      " [  0 143]]\n",
      "ROC-AUC: 0.5\n"
     ]
    },
    {
     "name": "stderr",
     "output_type": "stream",
     "text": [
      "//anaconda3/lib/python3.7/site-packages/sklearn/metrics/classification.py:1135: UndefinedMetricWarning: Precision and F-score are ill-defined and being set to 0.0 in labels with no predicted samples.\n",
      "  'precision', 'predicted', average, warn_for)\n"
     ]
    }
   ],
   "source": [
    "#Creating a Data Pipeline for Naive Bayes classifier classifier - baseline\n",
    "nb_pipeline = Pipeline([\n",
    "    ('bow', CountVectorizer(analyzer=text_process)),  # strings to token integer counts\n",
    "    ('tfidf', TfidfTransformer()),  # integer counts to weighted TF-IDF scores\n",
    "    ('classifier', MultinomialNB()),  # train on TF-IDF vectors w/ Naive Bayes classifier\n",
    "])\n",
    "nb_pipeline.fit(train['Combined'],train['Label'])\n",
    "predictions = nb_pipeline.predict(test['Combined'])\n",
    "Evaluation ('MultinomialNB','no shift, no n-grams, combined Top news',test[\"Label\"], predictions)\n"
   ]
  },
  {
   "cell_type": "code",
   "execution_count": 83,
   "metadata": {},
   "outputs": [
    {
     "name": "stdout",
     "output_type": "stream",
     "text": [
      "BernoulliNB(binarize=0.0)\n",
      "default alpha=1,no shift, ngram_range=(1, 2), combined Top news\n",
      "             precision    recall  f1-score   support\n",
      "\n",
      "          0       0.42      0.30      0.35       112\n",
      "          1       0.55      0.67      0.61       143\n",
      "\n",
      "avg / total       0.49      0.51      0.49       255\n",
      "\n",
      "Confussion matrix:\n",
      " [[34 78]\n",
      " [47 96]]\n",
      "ROC-AUC: 0.4874500499500499\n"
     ]
    }
   ],
   "source": [
    "#Creating a Data Pipeline for Bernoulli Naive Bayes classifier classifier and n-grams, default alpha=1\n",
    "bnb_2ngram_pipeline = Pipeline([\n",
    "    ('bow', CountVectorizer(analyzer=text_process,ngram_range=(1, 2))),  # strings to token integer counts\n",
    "    ('tfidf', TfidfTransformer()),  # integer counts to weighted TF-IDF scores\n",
    "    ('classifier', BernoulliNB(binarize=0.0)),  # train on TF-IDF vectors w/ Bernoulli Naive Bayes classifier\n",
    "])\n",
    "bnb_2ngram_pipeline.fit(train['Combined'],train['Label'])\n",
    "predictions = bnb_2ngram_pipeline.predict(test['Combined'])\n",
    "Evaluation ('BernoulliNB(binarize=0.0)','default alpha=1,no shift, ngram_range=(1, 2), combined Top news',test[\"Label\"], predictions)"
   ]
  },
  {
   "cell_type": "code",
   "execution_count": 84,
   "metadata": {},
   "outputs": [],
   "source": [
    "#1 days shift\n",
    "df.Label = df.Label.shift(-1)"
   ]
  },
  {
   "cell_type": "code",
   "execution_count": 85,
   "metadata": {},
   "outputs": [],
   "source": [
    "df.drop(df.index[len(df)-1], inplace=True)"
   ]
  },
  {
   "cell_type": "code",
   "execution_count": 86,
   "metadata": {},
   "outputs": [],
   "source": [
    "#new train data\n",
    "train=df.loc[(pd.to_datetime(df[\"Date\"]) <= date(2013,8,15)),['Label','Combined']]\n",
    "#new test data\n",
    "test=df.loc[(pd.to_datetime(df[\"Date\"]) > date(2013,8,15)),['Label','Combined']]"
   ]
  },
  {
   "cell_type": "code",
   "execution_count": 87,
   "metadata": {},
   "outputs": [
    {
     "name": "stderr",
     "output_type": "stream",
     "text": [
      "//anaconda3/lib/python3.7/site-packages/sklearn/naive_bayes.py:472: UserWarning: alpha too small will result in numeric errors, setting alpha = 1.0e-10\n",
      "  'setting alpha = %.1e' % _ALPHA_MIN)\n"
     ]
    },
    {
     "name": "stdout",
     "output_type": "stream",
     "text": [
      "BernoulliNB(alpha=0.0,binarize=0.0)\n",
      "1-day shift, ngram_range=(1, 2), combined Top news\n",
      "             precision    recall  f1-score   support\n",
      "\n",
      "        0.0       0.47      0.34      0.39       141\n",
      "        1.0       0.57      0.69      0.62       178\n",
      "\n",
      "avg / total       0.52      0.54      0.52       319\n",
      "\n",
      "Confussion matrix:\n",
      " [[ 48  93]\n",
      " [ 55 123]]\n",
      "ROC-AUC: 0.5157183839349749\n"
     ]
    }
   ],
   "source": [
    "#The best result for Bernoulli Naive Bayes classifier, 1-2 n-grams and 1-day shift is smoothing alpha = 0 \n",
    "bnb_2ngram_pipeline = Pipeline([\n",
    "    ('bow', CountVectorizer(analyzer=text_process,ngram_range=(1, 2))),\n",
    "    ('tfidf', TfidfTransformer()), \n",
    "    ('classifier', BernoulliNB(alpha=0.0, binarize=0.0))])\n",
    "bnb_2ngram_pipeline.fit(train['Combined'],train['Label'])\n",
    "predictions = bnb_2ngram_pipeline.predict(test['Combined'])\n",
    "Evaluation ('BernoulliNB(alpha=0.0,binarize=0.0)','1-day shift, ngram_range=(1, 2), combined Top news',test[\"Label\"], predictions)"
   ]
  },
  {
   "cell_type": "code",
   "execution_count": 88,
   "metadata": {},
   "outputs": [],
   "source": [
    "#3 days shift\n",
    "df.Label = df.Label.shift(-2)\n",
    "df.drop(df.index[len(df)-1], inplace=True)\n",
    "df.drop(df.index[len(df)-1], inplace=True)"
   ]
  },
  {
   "cell_type": "code",
   "execution_count": 89,
   "metadata": {},
   "outputs": [],
   "source": [
    "#new train data\n",
    "train=df.loc[(pd.to_datetime(df[\"Date\"]) <= date(2013,8,15)),['Label','Combined']]\n",
    "#new test data\n",
    "test=df.loc[(pd.to_datetime(df[\"Date\"]) > date(2013,8,15)),['Label','Combined']]"
   ]
  },
  {
   "cell_type": "code",
   "execution_count": 90,
   "metadata": {},
   "outputs": [
    {
     "name": "stdout",
     "output_type": "stream",
     "text": [
      "BernoulliNB(alpha=0.5,binarize=0.0)\n",
      "3-days shift, ngram_range=(1, 2), combined Top news\n",
      "             precision    recall  f1-score   support\n",
      "\n",
      "        0.0       0.51      0.47      0.49       139\n",
      "        1.0       0.61      0.65      0.63       178\n",
      "\n",
      "avg / total       0.56      0.57      0.57       317\n",
      "\n",
      "Confussion matrix:\n",
      " [[ 65  74]\n",
      " [ 63 115]]\n",
      "ROC-AUC: 0.5568466575054563\n"
     ]
    }
   ],
   "source": [
    "#The best result for Bernoulli Naive Bayes classifier, 1-2 n-grams and 3-day shift is smoothing alpha = 0.5 \n",
    "bnb_2ngram_pipeline = Pipeline([\n",
    "    ('bow', CountVectorizer(analyzer=text_process,ngram_range=(1, 2))),\n",
    "    ('tfidf', TfidfTransformer()), \n",
    "    ('classifier', BernoulliNB(alpha=0.5, binarize=0.0))])\n",
    "bnb_2ngram_pipeline.fit(train['Combined'],train['Label'])\n",
    "predictions = bnb_2ngram_pipeline.predict(test['Combined'])\n",
    "Evaluation ('BernoulliNB(alpha=0.5,binarize=0.0)','3-days shift, ngram_range=(1, 2), combined Top news',test[\"Label\"], predictions)"
   ]
  },
  {
   "cell_type": "code",
   "execution_count": 91,
   "metadata": {},
   "outputs": [
    {
     "data": {
      "image/png": "[encoded data removed]",
      "text/plain": [
       "<Figure size 432x288 with 1 Axes>"
      ]
     },
     "metadata": {
      "needs_background": "light"
     },
     "output_type": "display_data"
    }
   ],
   "source": [
    "ROCCurves (test[\"Label\"], predictions)"
   ]
  },
  {
   "cell_type": "markdown",
   "metadata": {},
   "source": [
    "### Altering combinations of top news columns"
   ]
  },
  {
   "cell_type": "code",
   "execution_count": 92,
   "metadata": {},
   "outputs": [],
   "source": [
    "#The best result for Bernoulli Naive Bayes classifier, 1-2 n-grams and 3-day shift is smoothing alpha = 0.5 \n",
    "bnb_2ngram_pipeline = Pipeline([\n",
    "    ('bow', CountVectorizer(analyzer=text_process,ngram_range=(1, 2))),\n",
    "    ('tfidf', TfidfTransformer()), \n",
    "    ('classifier', BernoulliNB(alpha=0.5, binarize=0.0))])\n"
   ]
  },
  {
   "cell_type": "code",
   "execution_count": 93,
   "metadata": {},
   "outputs": [],
   "source": [
    "df=pd.read_csv('../0.Raw_data/raw/Combined_News_DJIA.csv')\n"
   ]
  },
  {
   "cell_type": "code",
   "execution_count": 94,
   "metadata": {},
   "outputs": [],
   "source": [
    "#Combination 10 and 25\n",
    "df['Combined10_25']=df.iloc[:,[11,26]].apply(lambda row: ''.join(str(row.values)), axis=1)\n",
    "#Combination 12 and 25\n",
    "df['Combined12_25']=df.iloc[:,[13,26]].apply(lambda row: ''.join(str(row.values)), axis=1)"
   ]
  },
  {
   "cell_type": "code",
   "execution_count": 95,
   "metadata": {},
   "outputs": [],
   "source": [
    "#train data\n",
    "train=df.loc[(pd.to_datetime(df[\"Date\"]) <= date(2013,8,15)),['Label','Top1','Top12','Top25','Combined10_25','Combined12_25','Combined3_12_25']]\n",
    "#test data\n",
    "test=df.loc[(pd.to_datetime(df[\"Date\"]) > date(2013,8,15)),['Label','Top1','Top12','Top25','Combined10_25','Combined12_25','Combined3_12_25']]"
   ]
  },
  {
   "cell_type": "code",
   "execution_count": 96,
   "metadata": {},
   "outputs": [
    {
     "name": "stdout",
     "output_type": "stream",
     "text": [
      "BernoulliNB(alpha=0.5,binarize=0.0)\n",
      "no shift, ngram_range=(1, 2),Top1 only\n",
      "             precision    recall  f1-score   support\n",
      "\n",
      "          0       0.51      0.44      0.47       341\n",
      "          1       0.56      0.63      0.59       384\n",
      "\n",
      "avg / total       0.54      0.54      0.54       725\n",
      "\n",
      "Confussion matrix:\n",
      " [[149 192]\n",
      " [141 243]]\n",
      "ROC-AUC: 0.534881323313783\n"
     ]
    }
   ],
   "source": [
    "#no changes in the pipeline. We just use other data sets\n",
    "#Top1, no shift, baseline\n",
    "bnb_2ngram_pipeline.fit(train['Top1'],train['Label'])\n",
    "predictions = bnb_2ngram_pipeline.predict(test['Top1'])\n",
    "Evaluation ('BernoulliNB(alpha=0.5,binarize=0.0)','no shift, ngram_range=(1, 2),Top1 only',test[\"Label\"], predictions)"
   ]
  },
  {
   "cell_type": "code",
   "execution_count": 97,
   "metadata": {},
   "outputs": [
    {
     "name": "stdout",
     "output_type": "stream",
     "text": [
      "BernoulliNB(alpha=0.5,binarize=0.0)\n",
      "no shift, ngram_range=(1, 2),Top25 only\n",
      "             precision    recall  f1-score   support\n",
      "\n",
      "          0       0.50      0.43      0.46       341\n",
      "          1       0.55      0.62      0.58       384\n",
      "\n",
      "avg / total       0.53      0.53      0.53       725\n",
      "\n",
      "Confussion matrix:\n",
      " [[145 196]\n",
      " [145 239]]\n",
      "ROC-AUC: 0.5238078873411535\n"
     ]
    }
   ],
   "source": [
    "#no changes in the pipeline. We just use other data sets\n",
    "#Top25, no shift\n",
    "bnb_2ngram_pipeline.fit(train['Top25'],train['Label'])\n",
    "predictions = bnb_2ngram_pipeline.predict(test['Top25'])\n",
    "Evaluation ('BernoulliNB(alpha=0.5,binarize=0.0)','no shift, ngram_range=(1, 2),Top25 only',test[\"Label\"], predictions)"
   ]
  },
  {
   "cell_type": "code",
   "execution_count": 98,
   "metadata": {},
   "outputs": [
    {
     "name": "stdout",
     "output_type": "stream",
     "text": [
      "BernoulliNB(alpha=0.5,binarize=0.0)\n",
      "no shift, ngram_range=(1, 2),Combined Top12 and Top25\n",
      "             precision    recall  f1-score   support\n",
      "\n",
      "          0       0.51      0.49      0.50       341\n",
      "          1       0.56      0.59      0.58       384\n",
      "\n",
      "avg / total       0.54      0.54      0.54       725\n",
      "\n",
      "Confussion matrix:\n",
      " [[166 175]\n",
      " [157 227]]\n",
      "ROC-AUC: 0.5389746761974585\n"
     ]
    }
   ],
   "source": [
    "#no changes in the pipeline. We just use other data sets\n",
    "#Combined12_25, no shift\n",
    "bnb_2ngram_pipeline.fit(train['Combined12_25'],train['Label'])\n",
    "predictions = bnb_2ngram_pipeline.predict(test['Combined12_25'])\n",
    "Evaluation ('BernoulliNB(alpha=0.5,binarize=0.0)','no shift, ngram_range=(1, 2),Combined Top12 and Top25',test[\"Label\"], predictions)\n"
   ]
  },
  {
   "cell_type": "code",
   "execution_count": 99,
   "metadata": {},
   "outputs": [
    {
     "name": "stdout",
     "output_type": "stream",
     "text": [
      "BernoulliNB(alpha=0.5,binarize=0.0)\n",
      "no shift, ngram_range=(1, 2),Combined Top10 and Top25\n",
      "             precision    recall  f1-score   support\n",
      "\n",
      "          0       0.54      0.42      0.47       341\n",
      "          1       0.57      0.68      0.62       384\n",
      "\n",
      "avg / total       0.55      0.56      0.55       725\n",
      "\n",
      "Confussion matrix:\n",
      " [[142 199]\n",
      " [122 262]]\n",
      "ROC-AUC: 0.549356977028348\n"
     ]
    }
   ],
   "source": [
    "#no changes in the pipeline. We just use other data sets\n",
    "#Combined10_25, no shift\n",
    "bnb_2ngram_pipeline.fit(train['Combined10_25'],train['Label'])\n",
    "predictions = bnb_2ngram_pipeline.predict(test['Combined10_25'])\n",
    "Evaluation ('BernoulliNB(alpha=0.5,binarize=0.0)','no shift, ngram_range=(1, 2),Combined Top10 and Top25',test[\"Label\"], predictions)"
   ]
  },
  {
   "cell_type": "code",
   "execution_count": 100,
   "metadata": {},
   "outputs": [
    {
     "data": {
      "image/png": "[encoded data removed]",
      "text/plain": [
       "<Figure size 432x288 with 1 Axes>"
      ]
     },
     "metadata": {
      "needs_background": "light"
     },
     "output_type": "display_data"
    }
   ],
   "source": [
    "ROCCurves (test[\"Label\"], predictions)"
   ]
  },
  {
   "cell_type": "code",
   "execution_count": 101,
   "metadata": {},
   "outputs": [],
   "source": [
    "df.Label = df.Label.shift(-1)\n",
    "df.drop(df.index[len(df)-1], inplace=True)\n",
    "df.Label = df.Label.shift(-1)\n",
    "df.drop(df.index[len(df)-1], inplace=True)"
   ]
  },
  {
   "cell_type": "code",
   "execution_count": 102,
   "metadata": {},
   "outputs": [],
   "source": [
    "#Combination 3,12 and 25\n",
    "df['Combined3_12_25']=df.iloc[:,[4,13,26]].apply(lambda row: ''.join(str(row.values)), axis=1)"
   ]
  },
  {
   "cell_type": "code",
   "execution_count": 103,
   "metadata": {},
   "outputs": [
    {
     "data": {
      "text/html": [
       "<div>\n",
       "<style scoped>\n",
       "    .dataframe tbody tr th:only-of-type {\n",
       "        vertical-align: middle;\n",
       "    }\n",
       "\n",
       "    .dataframe tbody tr th {\n",
       "        vertical-align: top;\n",
       "    }\n",
       "\n",
       "    .dataframe thead th {\n",
       "        text-align: right;\n",
       "    }\n",
       "</style>\n",
       "<table border=\"1\" class=\"dataframe\">\n",
       "  <thead>\n",
       "    <tr style=\"text-align: right;\">\n",
       "      <th></th>\n",
       "      <th>Label</th>\n",
       "      <th>Combined3_12_25</th>\n",
       "    </tr>\n",
       "  </thead>\n",
       "  <tbody>\n",
       "    <tr>\n",
       "      <th>0</th>\n",
       "      <td>0.0</td>\n",
       "      <td>[\"b'Russia Today: Columns of troops roll into ...</td>\n",
       "    </tr>\n",
       "    <tr>\n",
       "      <th>1</th>\n",
       "      <td>0.0</td>\n",
       "      <td>['b\"Jewish Georgian minister: Thanks to Israel...</td>\n",
       "    </tr>\n",
       "    <tr>\n",
       "      <th>2</th>\n",
       "      <td>1.0</td>\n",
       "      <td>['b\\'\"If we had no sexual harassment we would ...</td>\n",
       "    </tr>\n",
       "    <tr>\n",
       "      <th>3</th>\n",
       "      <td>1.0</td>\n",
       "      <td>[\"b' Israel clears troops who killed Reuters c...</td>\n",
       "    </tr>\n",
       "    <tr>\n",
       "      <th>4</th>\n",
       "      <td>0.0</td>\n",
       "      <td>[\"b'Swedish wrestler Ara Abrahamian throws awa...</td>\n",
       "    </tr>\n",
       "  </tbody>\n",
       "</table>\n",
       "</div>"
      ],
      "text/plain": [
       "   Label                                    Combined3_12_25\n",
       "0    0.0  [\"b'Russia Today: Columns of troops roll into ...\n",
       "1    0.0  ['b\"Jewish Georgian minister: Thanks to Israel...\n",
       "2    1.0  ['b\\'\"If we had no sexual harassment we would ...\n",
       "3    1.0  [\"b' Israel clears troops who killed Reuters c...\n",
       "4    0.0  [\"b'Swedish wrestler Ara Abrahamian throws awa..."
      ]
     },
     "execution_count": 103,
     "metadata": {},
     "output_type": "execute_result"
    }
   ],
   "source": [
    "#train data\n",
    "train=df.loc[(pd.to_datetime(df[\"Date\"]) <= date(2013,8,15)),['Label','Combined3_12_25']]\n",
    "train.head()"
   ]
  },
  {
   "cell_type": "code",
   "execution_count": 104,
   "metadata": {},
   "outputs": [
    {
     "data": {
      "text/html": [
       "<div>\n",
       "<style scoped>\n",
       "    .dataframe tbody tr th:only-of-type {\n",
       "        vertical-align: middle;\n",
       "    }\n",
       "\n",
       "    .dataframe tbody tr th {\n",
       "        vertical-align: top;\n",
       "    }\n",
       "\n",
       "    .dataframe thead th {\n",
       "        text-align: right;\n",
       "    }\n",
       "</style>\n",
       "<table border=\"1\" class=\"dataframe\">\n",
       "  <thead>\n",
       "    <tr style=\"text-align: right;\">\n",
       "      <th></th>\n",
       "      <th>Label</th>\n",
       "      <th>Combined3_12_25</th>\n",
       "    </tr>\n",
       "  </thead>\n",
       "  <tbody>\n",
       "    <tr>\n",
       "      <th>1982</th>\n",
       "      <td>0.0</td>\n",
       "      <td>['Report: China is still harvesting organs fro...</td>\n",
       "    </tr>\n",
       "    <tr>\n",
       "      <th>1983</th>\n",
       "      <td>1.0</td>\n",
       "      <td>['Nicola Sturgeon says a second independence r...</td>\n",
       "    </tr>\n",
       "    <tr>\n",
       "      <th>1984</th>\n",
       "      <td>1.0</td>\n",
       "      <td>[\"Poland 'shocked' by xenophobic abuse of Pole...</td>\n",
       "    </tr>\n",
       "    <tr>\n",
       "      <th>1985</th>\n",
       "      <td>1.0</td>\n",
       "      <td>[\"S&amp;amp;P cuts United Kingdom sovereign credit...</td>\n",
       "    </tr>\n",
       "    <tr>\n",
       "      <th>1986</th>\n",
       "      <td>1.0</td>\n",
       "      <td>['UK must accept freedom of movement to access...</td>\n",
       "    </tr>\n",
       "  </tbody>\n",
       "</table>\n",
       "</div>"
      ],
      "text/plain": [
       "      Label                                    Combined3_12_25\n",
       "1982    0.0  ['Report: China is still harvesting organs fro...\n",
       "1983    1.0  ['Nicola Sturgeon says a second independence r...\n",
       "1984    1.0  [\"Poland 'shocked' by xenophobic abuse of Pole...\n",
       "1985    1.0  [\"S&amp;P cuts United Kingdom sovereign credit...\n",
       "1986    1.0  ['UK must accept freedom of movement to access..."
      ]
     },
     "execution_count": 104,
     "metadata": {},
     "output_type": "execute_result"
    }
   ],
   "source": [
    "#test data\n",
    "test=df.loc[(pd.to_datetime(df[\"Date\"]) > date(2013,8,15)),['Label','Combined3_12_25']]\n",
    "test.tail()"
   ]
  },
  {
   "cell_type": "code",
   "execution_count": 105,
   "metadata": {},
   "outputs": [
    {
     "data": {
      "text/html": [
       "<div>\n",
       "<style scoped>\n",
       "    .dataframe tbody tr th:only-of-type {\n",
       "        vertical-align: middle;\n",
       "    }\n",
       "\n",
       "    .dataframe tbody tr th {\n",
       "        vertical-align: top;\n",
       "    }\n",
       "\n",
       "    .dataframe thead th {\n",
       "        text-align: right;\n",
       "    }\n",
       "</style>\n",
       "<table border=\"1\" class=\"dataframe\">\n",
       "  <thead>\n",
       "    <tr style=\"text-align: right;\">\n",
       "      <th></th>\n",
       "      <th>Date</th>\n",
       "      <th>Label</th>\n",
       "      <th>Top1</th>\n",
       "      <th>Top2</th>\n",
       "      <th>Top3</th>\n",
       "      <th>Top4</th>\n",
       "      <th>Top5</th>\n",
       "      <th>Top6</th>\n",
       "      <th>Top7</th>\n",
       "      <th>Top8</th>\n",
       "      <th>...</th>\n",
       "      <th>Top19</th>\n",
       "      <th>Top20</th>\n",
       "      <th>Top21</th>\n",
       "      <th>Top22</th>\n",
       "      <th>Top23</th>\n",
       "      <th>Top24</th>\n",
       "      <th>Top25</th>\n",
       "      <th>Combined10_25</th>\n",
       "      <th>Combined12_25</th>\n",
       "      <th>Combined3_12_25</th>\n",
       "    </tr>\n",
       "  </thead>\n",
       "  <tbody>\n",
       "    <tr>\n",
       "      <th>0</th>\n",
       "      <td>2008-08-08</td>\n",
       "      <td>0.0</td>\n",
       "      <td>b\"Georgia 'downs two Russian warplanes' as cou...</td>\n",
       "      <td>b'BREAKING: Musharraf to be impeached.'</td>\n",
       "      <td>b'Russia Today: Columns of troops roll into So...</td>\n",
       "      <td>b'Russian tanks are moving towards the capital...</td>\n",
       "      <td>b\"Afghan children raped with 'impunity,' U.N. ...</td>\n",
       "      <td>b'150 Russian tanks have entered South Ossetia...</td>\n",
       "      <td>b\"Breaking: Georgia invades South Ossetia, Rus...</td>\n",
       "      <td>b\"The 'enemy combatent' trials are nothing but...</td>\n",
       "      <td>...</td>\n",
       "      <td>b'This is a busy day:  The European Union has ...</td>\n",
       "      <td>b\"Georgia will withdraw 1,000 soldiers from Ir...</td>\n",
       "      <td>b'Why the Pentagon Thinks Attacking Iran is a ...</td>\n",
       "      <td>b'Caucasus in crisis: Georgia invades South Os...</td>\n",
       "      <td>b'Indian shoe manufactory  - And again in a se...</td>\n",
       "      <td>b'Visitors Suffering from Mental Illnesses Ban...</td>\n",
       "      <td>b\"No Help for Mexico's Kidnapping Surge\"</td>\n",
       "      <td>[\"b'Did the U.S. Prep Georgia for War with Rus...</td>\n",
       "      <td>[\"b'Announcing:Class Action Lawsuit on Behalf ...</td>\n",
       "      <td>[\"b'Russia Today: Columns of troops roll into ...</td>\n",
       "    </tr>\n",
       "    <tr>\n",
       "      <th>1</th>\n",
       "      <td>2008-08-11</td>\n",
       "      <td>0.0</td>\n",
       "      <td>b'Why wont America and Nato help us? If they w...</td>\n",
       "      <td>b'Bush puts foot down on Georgian conflict'</td>\n",
       "      <td>b\"Jewish Georgian minister: Thanks to Israeli ...</td>\n",
       "      <td>b'Georgian army flees in disarray as Russians ...</td>\n",
       "      <td>b\"Olympic opening ceremony fireworks 'faked'\"</td>\n",
       "      <td>b'What were the Mossad with fraudulent New Zea...</td>\n",
       "      <td>b'Russia angered by Israeli military sale to G...</td>\n",
       "      <td>b'An American citizen living in S.Ossetia blam...</td>\n",
       "      <td>...</td>\n",
       "      <td>b'China to overtake US as largest manufacturer'</td>\n",
       "      <td>b'War in South Ossetia [PICS]'</td>\n",
       "      <td>b'Israeli Physicians Group Condemns State Tort...</td>\n",
       "      <td>b' Russia has just beaten the United States ov...</td>\n",
       "      <td>b'Perhaps *the* question about the Georgia - R...</td>\n",
       "      <td>b'Russia is so much better at war'</td>\n",
       "      <td>b\"So this is what it's come to: trading sex fo...</td>\n",
       "      <td>['b\"Georgia\\'s move, a mistake of monumental p...</td>\n",
       "      <td>[\"b'Abhinav Bindra wins first ever Individual ...</td>\n",
       "      <td>['b\"Jewish Georgian minister: Thanks to Israel...</td>\n",
       "    </tr>\n",
       "    <tr>\n",
       "      <th>2</th>\n",
       "      <td>2008-08-12</td>\n",
       "      <td>1.0</td>\n",
       "      <td>b'Remember that adorable 9-year-old who sang a...</td>\n",
       "      <td>b\"Russia 'ends Georgia operation'\"</td>\n",
       "      <td>b'\"If we had no sexual harassment we would hav...</td>\n",
       "      <td>b\"Al-Qa'eda is losing support in Iraq because ...</td>\n",
       "      <td>b'Ceasefire in Georgia: Putin Outmaneuvers the...</td>\n",
       "      <td>b'Why Microsoft and Intel tried to kill the XO...</td>\n",
       "      <td>b'Stratfor: The Russo-Georgian War and the Bal...</td>\n",
       "      <td>b\"I'm Trying to Get a Sense of This Whole Geor...</td>\n",
       "      <td>...</td>\n",
       "      <td>b'Russia, Georgia, and NATO: Cold War Two'</td>\n",
       "      <td>b'Remember that adorable 62-year-old who led y...</td>\n",
       "      <td>b'War in Georgia: The Israeli connection'</td>\n",
       "      <td>b'All signs point to the US encouraging Georgi...</td>\n",
       "      <td>b'Christopher King argues that the US and NATO...</td>\n",
       "      <td>b'America: The New Mexico?'</td>\n",
       "      <td>b\"BBC NEWS | Asia-Pacific | Extinction 'by man...</td>\n",
       "      <td>[\"b'U.S. Beats War Drum as Iran Dumps the Doll...</td>\n",
       "      <td>[\"b'CNN use footage of Tskhinvali ruins to cov...</td>\n",
       "      <td>['b\\'\"If we had no sexual harassment we would ...</td>\n",
       "    </tr>\n",
       "    <tr>\n",
       "      <th>3</th>\n",
       "      <td>2008-08-13</td>\n",
       "      <td>1.0</td>\n",
       "      <td>b' U.S. refuses Israel weapons to attack Iran:...</td>\n",
       "      <td>b\"When the president ordered to attack Tskhinv...</td>\n",
       "      <td>b' Israel clears troops who killed Reuters cam...</td>\n",
       "      <td>b'Britain\\'s policy of being tough on drugs is...</td>\n",
       "      <td>b'Body of 14 year old found in trunk; Latest (...</td>\n",
       "      <td>b'China has moved 10 *million* quake survivors...</td>\n",
       "      <td>b\"Bush announces Operation Get All Up In Russi...</td>\n",
       "      <td>b'Russian forces sink Georgian ships '</td>\n",
       "      <td>...</td>\n",
       "      <td>b'Russian convoy heads into Georgia, violating...</td>\n",
       "      <td>b'Israeli defence minister: US against strike ...</td>\n",
       "      <td>b'Gorbachev: We Had No Choice'</td>\n",
       "      <td>b'Witness: Russian forces head towards Tbilisi...</td>\n",
       "      <td>b' Quarter of Russians blame U.S. for conflict...</td>\n",
       "      <td>b'Georgian president  says US military will ta...</td>\n",
       "      <td>b'2006: Nobel laureate Aleksander Solzhenitsyn...</td>\n",
       "      <td>['b\"92% of CNN readers: Russia\\'s actions in G...</td>\n",
       "      <td>['b\"US warns against Israeli plan to strike ag...</td>\n",
       "      <td>[\"b' Israel clears troops who killed Reuters c...</td>\n",
       "    </tr>\n",
       "    <tr>\n",
       "      <th>4</th>\n",
       "      <td>2008-08-14</td>\n",
       "      <td>0.0</td>\n",
       "      <td>b'All the experts admit that we should legalis...</td>\n",
       "      <td>b'War in South Osetia - 89 pictures made by a ...</td>\n",
       "      <td>b'Swedish wrestler Ara Abrahamian throws away ...</td>\n",
       "      <td>b'Russia exaggerated the death toll in South O...</td>\n",
       "      <td>b'Missile That Killed 9 Inside Pakistan May Ha...</td>\n",
       "      <td>b\"Rushdie Condemns Random House's Refusal to P...</td>\n",
       "      <td>b'Poland and US agree to missle defense deal. ...</td>\n",
       "      <td>b'Will the Russians conquer Tblisi? Bet on it,...</td>\n",
       "      <td>...</td>\n",
       "      <td>b'\"Non-media\" photos of South Ossetia/Georgia ...</td>\n",
       "      <td>b'Georgian TV reporter shot by Russian sniper ...</td>\n",
       "      <td>b'Saudi Arabia: Mother moves to block child ma...</td>\n",
       "      <td>b'Taliban wages war on humanitarian aid workers'</td>\n",
       "      <td>b'Russia: World  \"can forget about\" Georgia\\'s...</td>\n",
       "      <td>b'Darfur rebels accuse Sudan of mounting major...</td>\n",
       "      <td>b'Philippines : Peace Advocate say Muslims nee...</td>\n",
       "      <td>[\"b' Musharraf expected to resign rather than ...</td>\n",
       "      <td>[\"b'Why Russias response to Georgia was right'...</td>\n",
       "      <td>[\"b'Swedish wrestler Ara Abrahamian throws awa...</td>\n",
       "    </tr>\n",
       "  </tbody>\n",
       "</table>\n",
       "<p>5 rows × 30 columns</p>\n",
       "</div>"
      ],
      "text/plain": [
       "         Date  Label                                               Top1  \\\n",
       "0  2008-08-08    0.0  b\"Georgia 'downs two Russian warplanes' as cou...   \n",
       "1  2008-08-11    0.0  b'Why wont America and Nato help us? If they w...   \n",
       "2  2008-08-12    1.0  b'Remember that adorable 9-year-old who sang a...   \n",
       "3  2008-08-13    1.0  b' U.S. refuses Israel weapons to attack Iran:...   \n",
       "4  2008-08-14    0.0  b'All the experts admit that we should legalis...   \n",
       "\n",
       "                                                Top2  \\\n",
       "0            b'BREAKING: Musharraf to be impeached.'   \n",
       "1        b'Bush puts foot down on Georgian conflict'   \n",
       "2                 b\"Russia 'ends Georgia operation'\"   \n",
       "3  b\"When the president ordered to attack Tskhinv...   \n",
       "4  b'War in South Osetia - 89 pictures made by a ...   \n",
       "\n",
       "                                                Top3  \\\n",
       "0  b'Russia Today: Columns of troops roll into So...   \n",
       "1  b\"Jewish Georgian minister: Thanks to Israeli ...   \n",
       "2  b'\"If we had no sexual harassment we would hav...   \n",
       "3  b' Israel clears troops who killed Reuters cam...   \n",
       "4  b'Swedish wrestler Ara Abrahamian throws away ...   \n",
       "\n",
       "                                                Top4  \\\n",
       "0  b'Russian tanks are moving towards the capital...   \n",
       "1  b'Georgian army flees in disarray as Russians ...   \n",
       "2  b\"Al-Qa'eda is losing support in Iraq because ...   \n",
       "3  b'Britain\\'s policy of being tough on drugs is...   \n",
       "4  b'Russia exaggerated the death toll in South O...   \n",
       "\n",
       "                                                Top5  \\\n",
       "0  b\"Afghan children raped with 'impunity,' U.N. ...   \n",
       "1      b\"Olympic opening ceremony fireworks 'faked'\"   \n",
       "2  b'Ceasefire in Georgia: Putin Outmaneuvers the...   \n",
       "3  b'Body of 14 year old found in trunk; Latest (...   \n",
       "4  b'Missile That Killed 9 Inside Pakistan May Ha...   \n",
       "\n",
       "                                                Top6  \\\n",
       "0  b'150 Russian tanks have entered South Ossetia...   \n",
       "1  b'What were the Mossad with fraudulent New Zea...   \n",
       "2  b'Why Microsoft and Intel tried to kill the XO...   \n",
       "3  b'China has moved 10 *million* quake survivors...   \n",
       "4  b\"Rushdie Condemns Random House's Refusal to P...   \n",
       "\n",
       "                                                Top7  \\\n",
       "0  b\"Breaking: Georgia invades South Ossetia, Rus...   \n",
       "1  b'Russia angered by Israeli military sale to G...   \n",
       "2  b'Stratfor: The Russo-Georgian War and the Bal...   \n",
       "3  b\"Bush announces Operation Get All Up In Russi...   \n",
       "4  b'Poland and US agree to missle defense deal. ...   \n",
       "\n",
       "                                                Top8  ...  \\\n",
       "0  b\"The 'enemy combatent' trials are nothing but...  ...   \n",
       "1  b'An American citizen living in S.Ossetia blam...  ...   \n",
       "2  b\"I'm Trying to Get a Sense of This Whole Geor...  ...   \n",
       "3             b'Russian forces sink Georgian ships '  ...   \n",
       "4  b'Will the Russians conquer Tblisi? Bet on it,...  ...   \n",
       "\n",
       "                                               Top19  \\\n",
       "0  b'This is a busy day:  The European Union has ...   \n",
       "1    b'China to overtake US as largest manufacturer'   \n",
       "2         b'Russia, Georgia, and NATO: Cold War Two'   \n",
       "3  b'Russian convoy heads into Georgia, violating...   \n",
       "4  b'\"Non-media\" photos of South Ossetia/Georgia ...   \n",
       "\n",
       "                                               Top20  \\\n",
       "0  b\"Georgia will withdraw 1,000 soldiers from Ir...   \n",
       "1                     b'War in South Ossetia [PICS]'   \n",
       "2  b'Remember that adorable 62-year-old who led y...   \n",
       "3  b'Israeli defence minister: US against strike ...   \n",
       "4  b'Georgian TV reporter shot by Russian sniper ...   \n",
       "\n",
       "                                               Top21  \\\n",
       "0  b'Why the Pentagon Thinks Attacking Iran is a ...   \n",
       "1  b'Israeli Physicians Group Condemns State Tort...   \n",
       "2          b'War in Georgia: The Israeli connection'   \n",
       "3                     b'Gorbachev: We Had No Choice'   \n",
       "4  b'Saudi Arabia: Mother moves to block child ma...   \n",
       "\n",
       "                                               Top22  \\\n",
       "0  b'Caucasus in crisis: Georgia invades South Os...   \n",
       "1  b' Russia has just beaten the United States ov...   \n",
       "2  b'All signs point to the US encouraging Georgi...   \n",
       "3  b'Witness: Russian forces head towards Tbilisi...   \n",
       "4   b'Taliban wages war on humanitarian aid workers'   \n",
       "\n",
       "                                               Top23  \\\n",
       "0  b'Indian shoe manufactory  - And again in a se...   \n",
       "1  b'Perhaps *the* question about the Georgia - R...   \n",
       "2  b'Christopher King argues that the US and NATO...   \n",
       "3  b' Quarter of Russians blame U.S. for conflict...   \n",
       "4  b'Russia: World  \"can forget about\" Georgia\\'s...   \n",
       "\n",
       "                                               Top24  \\\n",
       "0  b'Visitors Suffering from Mental Illnesses Ban...   \n",
       "1                 b'Russia is so much better at war'   \n",
       "2                        b'America: The New Mexico?'   \n",
       "3  b'Georgian president  says US military will ta...   \n",
       "4  b'Darfur rebels accuse Sudan of mounting major...   \n",
       "\n",
       "                                               Top25  \\\n",
       "0           b\"No Help for Mexico's Kidnapping Surge\"   \n",
       "1  b\"So this is what it's come to: trading sex fo...   \n",
       "2  b\"BBC NEWS | Asia-Pacific | Extinction 'by man...   \n",
       "3  b'2006: Nobel laureate Aleksander Solzhenitsyn...   \n",
       "4  b'Philippines : Peace Advocate say Muslims nee...   \n",
       "\n",
       "                                       Combined10_25  \\\n",
       "0  [\"b'Did the U.S. Prep Georgia for War with Rus...   \n",
       "1  ['b\"Georgia\\'s move, a mistake of monumental p...   \n",
       "2  [\"b'U.S. Beats War Drum as Iran Dumps the Doll...   \n",
       "3  ['b\"92% of CNN readers: Russia\\'s actions in G...   \n",
       "4  [\"b' Musharraf expected to resign rather than ...   \n",
       "\n",
       "                                       Combined12_25  \\\n",
       "0  [\"b'Announcing:Class Action Lawsuit on Behalf ...   \n",
       "1  [\"b'Abhinav Bindra wins first ever Individual ...   \n",
       "2  [\"b'CNN use footage of Tskhinvali ruins to cov...   \n",
       "3  ['b\"US warns against Israeli plan to strike ag...   \n",
       "4  [\"b'Why Russias response to Georgia was right'...   \n",
       "\n",
       "                                     Combined3_12_25  \n",
       "0  [\"b'Russia Today: Columns of troops roll into ...  \n",
       "1  ['b\"Jewish Georgian minister: Thanks to Israel...  \n",
       "2  ['b\\'\"If we had no sexual harassment we would ...  \n",
       "3  [\"b' Israel clears troops who killed Reuters c...  \n",
       "4  [\"b'Swedish wrestler Ara Abrahamian throws awa...  \n",
       "\n",
       "[5 rows x 30 columns]"
      ]
     },
     "execution_count": 105,
     "metadata": {},
     "output_type": "execute_result"
    }
   ],
   "source": [
    "df.head()"
   ]
  },
  {
   "cell_type": "code",
   "execution_count": 106,
   "metadata": {},
   "outputs": [
    {
     "data": {
      "text/plain": [
       "'[\"b\\' Israel clears troops who killed Reuters cameraman\\'\"\\n \\'b\"US warns against Israeli plan to strike against Iran\\\\\\'s nuclear facilities\"\\'\\n \"b\\'2006: Nobel laureate Aleksander Solzhenitsyn accuses U.S., NATO of encircling Russia\\'\"]'"
      ]
     },
     "execution_count": 106,
     "metadata": {},
     "output_type": "execute_result"
    }
   ],
   "source": [
    "df['Combined3_12_25'][3]"
   ]
  },
  {
   "cell_type": "code",
   "execution_count": 107,
   "metadata": {},
   "outputs": [
    {
     "name": "stdout",
     "output_type": "stream",
     "text": [
      "BernoulliNB(alpha=0.5,binarize=0.0)\n",
      "2-days shift, ngram_range=(1, 2),Combined Top3,top12 and Top25\n",
      "             precision    recall  f1-score   support\n",
      "\n",
      "        0.0       0.48      0.45      0.46       339\n",
      "        1.0       0.54      0.57      0.55       384\n",
      "\n",
      "avg / total       0.51      0.51      0.51       723\n",
      "\n",
      "Confussion matrix:\n",
      " [[153 186]\n",
      " [167 217]]\n",
      "ROC-AUC: 0.5082158001474926\n"
     ]
    }
   ],
   "source": [
    "#no changes in the pipeline. We just use other data sets\n",
    "#Combined Top3, Top12 and Top25, 3-days shift\n",
    "bnb_2ngram_pipeline.fit(train['Combined3_12_25'],train['Label'])\n",
    "predictions = bnb_2ngram_pipeline.predict(test['Combined3_12_25'])\n",
    "Evaluation ('BernoulliNB(alpha=0.5,binarize=0.0)','2-days shift, ngram_range=(1, 2),Combined Top3,top12 and Top25',test[\"Label\"], predictions)"
   ]
  },
  {
   "cell_type": "code",
   "execution_count": 108,
   "metadata": {},
   "outputs": [],
   "source": [
    "#let's shift the data and explore Top1 and Top6 combination for 3 days shift\n",
    "df.Label = df.Label.shift(-1)\n",
    "df.drop(df.index[len(df)-1], inplace=True)"
   ]
  },
  {
   "cell_type": "code",
   "execution_count": 109,
   "metadata": {},
   "outputs": [],
   "source": [
    "#Combination 1 and 6\n",
    "df['Combined1_6']=df.iloc[:,[2,7]].apply(lambda row: ''.join(str(row.values)), axis=1)"
   ]
  },
  {
   "cell_type": "code",
   "execution_count": 110,
   "metadata": {},
   "outputs": [
    {
     "data": {
      "text/html": [
       "<div>\n",
       "<style scoped>\n",
       "    .dataframe tbody tr th:only-of-type {\n",
       "        vertical-align: middle;\n",
       "    }\n",
       "\n",
       "    .dataframe tbody tr th {\n",
       "        vertical-align: top;\n",
       "    }\n",
       "\n",
       "    .dataframe thead th {\n",
       "        text-align: right;\n",
       "    }\n",
       "</style>\n",
       "<table border=\"1\" class=\"dataframe\">\n",
       "  <thead>\n",
       "    <tr style=\"text-align: right;\">\n",
       "      <th></th>\n",
       "      <th>Label</th>\n",
       "      <th>Combined1_6</th>\n",
       "    </tr>\n",
       "  </thead>\n",
       "  <tbody>\n",
       "    <tr>\n",
       "      <th>0</th>\n",
       "      <td>0.0</td>\n",
       "      <td>['b\"Georgia \\'downs two Russian warplanes\\' as...</td>\n",
       "    </tr>\n",
       "    <tr>\n",
       "      <th>1</th>\n",
       "      <td>1.0</td>\n",
       "      <td>[\"b'Why wont America and Nato help us? If they...</td>\n",
       "    </tr>\n",
       "    <tr>\n",
       "      <th>2</th>\n",
       "      <td>1.0</td>\n",
       "      <td>[\"b'Remember that adorable 9-year-old who sang...</td>\n",
       "    </tr>\n",
       "    <tr>\n",
       "      <th>3</th>\n",
       "      <td>0.0</td>\n",
       "      <td>[\"b' U.S. refuses Israel weapons to attack Ira...</td>\n",
       "    </tr>\n",
       "    <tr>\n",
       "      <th>4</th>\n",
       "      <td>0.0</td>\n",
       "      <td>[\"b'All the experts admit that we should legal...</td>\n",
       "    </tr>\n",
       "  </tbody>\n",
       "</table>\n",
       "</div>"
      ],
      "text/plain": [
       "   Label                                        Combined1_6\n",
       "0    0.0  ['b\"Georgia \\'downs two Russian warplanes\\' as...\n",
       "1    1.0  [\"b'Why wont America and Nato help us? If they...\n",
       "2    1.0  [\"b'Remember that adorable 9-year-old who sang...\n",
       "3    0.0  [\"b' U.S. refuses Israel weapons to attack Ira...\n",
       "4    0.0  [\"b'All the experts admit that we should legal..."
      ]
     },
     "execution_count": 110,
     "metadata": {},
     "output_type": "execute_result"
    }
   ],
   "source": [
    "#train data\n",
    "train=df.loc[(pd.to_datetime(df[\"Date\"]) <= date(2013,8,15)),['Label','Combined1_6']]\n",
    "train.head()"
   ]
  },
  {
   "cell_type": "code",
   "execution_count": 111,
   "metadata": {},
   "outputs": [
    {
     "data": {
      "text/html": [
       "<div>\n",
       "<style scoped>\n",
       "    .dataframe tbody tr th:only-of-type {\n",
       "        vertical-align: middle;\n",
       "    }\n",
       "\n",
       "    .dataframe tbody tr th {\n",
       "        vertical-align: top;\n",
       "    }\n",
       "\n",
       "    .dataframe thead th {\n",
       "        text-align: right;\n",
       "    }\n",
       "</style>\n",
       "<table border=\"1\" class=\"dataframe\">\n",
       "  <thead>\n",
       "    <tr style=\"text-align: right;\">\n",
       "      <th></th>\n",
       "      <th>Label</th>\n",
       "      <th>Combined1_6</th>\n",
       "    </tr>\n",
       "  </thead>\n",
       "  <tbody>\n",
       "    <tr>\n",
       "      <th>1981</th>\n",
       "      <td>0.0</td>\n",
       "      <td>['German government agrees to ban fracking ind...</td>\n",
       "    </tr>\n",
       "    <tr>\n",
       "      <th>1982</th>\n",
       "      <td>1.0</td>\n",
       "      <td>['Today The United Kingdom decides whether to ...</td>\n",
       "    </tr>\n",
       "    <tr>\n",
       "      <th>1983</th>\n",
       "      <td>1.0</td>\n",
       "      <td>['David Cameron to Resign as PM After EU Refer...</td>\n",
       "    </tr>\n",
       "    <tr>\n",
       "      <th>1984</th>\n",
       "      <td>1.0</td>\n",
       "      <td>['Barclays and RBS shares suspended from tradi...</td>\n",
       "    </tr>\n",
       "    <tr>\n",
       "      <th>1985</th>\n",
       "      <td>1.0</td>\n",
       "      <td>['2,500 Scientists To Australia: If You Want T...</td>\n",
       "    </tr>\n",
       "  </tbody>\n",
       "</table>\n",
       "</div>"
      ],
      "text/plain": [
       "      Label                                        Combined1_6\n",
       "1981    0.0  ['German government agrees to ban fracking ind...\n",
       "1982    1.0  ['Today The United Kingdom decides whether to ...\n",
       "1983    1.0  ['David Cameron to Resign as PM After EU Refer...\n",
       "1984    1.0  ['Barclays and RBS shares suspended from tradi...\n",
       "1985    1.0  ['2,500 Scientists To Australia: If You Want T..."
      ]
     },
     "execution_count": 111,
     "metadata": {},
     "output_type": "execute_result"
    }
   ],
   "source": [
    "#test data\n",
    "test=df.loc[(pd.to_datetime(df[\"Date\"]) > date(2013,8,15)),['Label','Combined1_6']]\n",
    "test.tail()"
   ]
  },
  {
   "cell_type": "code",
   "execution_count": 112,
   "metadata": {},
   "outputs": [
    {
     "name": "stdout",
     "output_type": "stream",
     "text": [
      "BernoulliNB(alpha=0.5,binarize=0.0)\n",
      "3-days shift, ngram_range=(1, 2),Combined Top1 and Top6\n",
      "             precision    recall  f1-score   support\n",
      "\n",
      "        0.0       0.48      0.46      0.47       338\n",
      "        1.0       0.54      0.55      0.55       384\n",
      "\n",
      "avg / total       0.51      0.51      0.51       722\n",
      "\n",
      "Confussion matrix:\n",
      " [[157 181]\n",
      " [172 212]]\n",
      "ROC-AUC: 0.5082901873767259\n"
     ]
    }
   ],
   "source": [
    "#no changes in the pipeline. We just use other data sets\n",
    "#Combined Top1 and Top6, 3-days shift\n",
    "bnb_2ngram_pipeline.fit(train['Combined1_6'],train['Label'])\n",
    "predictions = bnb_2ngram_pipeline.predict(test['Combined1_6'])\n",
    "Evaluation ('BernoulliNB(alpha=0.5,binarize=0.0)','3-days shift, ngram_range=(1, 2),Combined Top1 and Top6',test[\"Label\"], predictions)"
   ]
  },
  {
   "cell_type": "code",
   "execution_count": 113,
   "metadata": {},
   "outputs": [],
   "source": [
    "#Combination 3, 10, 15, 20, 25\n",
    "df['Combined3_10_15_20_25']=df.iloc[:,[4,11, 16, 21, 26]].apply(lambda row: ''.join(str(row.values)), axis=1)"
   ]
  },
  {
   "cell_type": "code",
   "execution_count": 114,
   "metadata": {},
   "outputs": [
    {
     "data": {
      "text/html": [
       "<div>\n",
       "<style scoped>\n",
       "    .dataframe tbody tr th:only-of-type {\n",
       "        vertical-align: middle;\n",
       "    }\n",
       "\n",
       "    .dataframe tbody tr th {\n",
       "        vertical-align: top;\n",
       "    }\n",
       "\n",
       "    .dataframe thead th {\n",
       "        text-align: right;\n",
       "    }\n",
       "</style>\n",
       "<table border=\"1\" class=\"dataframe\">\n",
       "  <thead>\n",
       "    <tr style=\"text-align: right;\">\n",
       "      <th></th>\n",
       "      <th>Label</th>\n",
       "      <th>Combined3_10_15_20_25</th>\n",
       "    </tr>\n",
       "  </thead>\n",
       "  <tbody>\n",
       "    <tr>\n",
       "      <th>0</th>\n",
       "      <td>0.0</td>\n",
       "      <td>[\"b'Russia Today: Columns of troops roll into ...</td>\n",
       "    </tr>\n",
       "    <tr>\n",
       "      <th>1</th>\n",
       "      <td>1.0</td>\n",
       "      <td>['b\"Jewish Georgian minister: Thanks to Israel...</td>\n",
       "    </tr>\n",
       "    <tr>\n",
       "      <th>2</th>\n",
       "      <td>1.0</td>\n",
       "      <td>['b\\'\"If we had no sexual harassment we would ...</td>\n",
       "    </tr>\n",
       "    <tr>\n",
       "      <th>3</th>\n",
       "      <td>0.0</td>\n",
       "      <td>[\"b' Israel clears troops who killed Reuters c...</td>\n",
       "    </tr>\n",
       "    <tr>\n",
       "      <th>4</th>\n",
       "      <td>0.0</td>\n",
       "      <td>[\"b'Swedish wrestler Ara Abrahamian throws awa...</td>\n",
       "    </tr>\n",
       "  </tbody>\n",
       "</table>\n",
       "</div>"
      ],
      "text/plain": [
       "   Label                              Combined3_10_15_20_25\n",
       "0    0.0  [\"b'Russia Today: Columns of troops roll into ...\n",
       "1    1.0  ['b\"Jewish Georgian minister: Thanks to Israel...\n",
       "2    1.0  ['b\\'\"If we had no sexual harassment we would ...\n",
       "3    0.0  [\"b' Israel clears troops who killed Reuters c...\n",
       "4    0.0  [\"b'Swedish wrestler Ara Abrahamian throws awa..."
      ]
     },
     "execution_count": 114,
     "metadata": {},
     "output_type": "execute_result"
    }
   ],
   "source": [
    "#train data\n",
    "train=df.loc[(pd.to_datetime(df[\"Date\"]) <= date(2013,8,15)),['Label','Combined3_10_15_20_25']]\n",
    "train.head()"
   ]
  },
  {
   "cell_type": "code",
   "execution_count": 115,
   "metadata": {},
   "outputs": [
    {
     "data": {
      "text/html": [
       "<div>\n",
       "<style scoped>\n",
       "    .dataframe tbody tr th:only-of-type {\n",
       "        vertical-align: middle;\n",
       "    }\n",
       "\n",
       "    .dataframe tbody tr th {\n",
       "        vertical-align: top;\n",
       "    }\n",
       "\n",
       "    .dataframe thead th {\n",
       "        text-align: right;\n",
       "    }\n",
       "</style>\n",
       "<table border=\"1\" class=\"dataframe\">\n",
       "  <thead>\n",
       "    <tr style=\"text-align: right;\">\n",
       "      <th></th>\n",
       "      <th>Label</th>\n",
       "      <th>Combined3_10_15_20_25</th>\n",
       "    </tr>\n",
       "  </thead>\n",
       "  <tbody>\n",
       "    <tr>\n",
       "      <th>1981</th>\n",
       "      <td>0.0</td>\n",
       "      <td>['Pakistan is selling nuclear materials to N K...</td>\n",
       "    </tr>\n",
       "    <tr>\n",
       "      <th>1982</th>\n",
       "      <td>1.0</td>\n",
       "      <td>['Report: China is still harvesting organs fro...</td>\n",
       "    </tr>\n",
       "    <tr>\n",
       "      <th>1983</th>\n",
       "      <td>1.0</td>\n",
       "      <td>['Nicola Sturgeon says a second independence r...</td>\n",
       "    </tr>\n",
       "    <tr>\n",
       "      <th>1984</th>\n",
       "      <td>1.0</td>\n",
       "      <td>[\"Poland 'shocked' by xenophobic abuse of Pole...</td>\n",
       "    </tr>\n",
       "    <tr>\n",
       "      <th>1985</th>\n",
       "      <td>1.0</td>\n",
       "      <td>[\"S&amp;amp;P cuts United Kingdom sovereign credit...</td>\n",
       "    </tr>\n",
       "  </tbody>\n",
       "</table>\n",
       "</div>"
      ],
      "text/plain": [
       "      Label                              Combined3_10_15_20_25\n",
       "1981    0.0  ['Pakistan is selling nuclear materials to N K...\n",
       "1982    1.0  ['Report: China is still harvesting organs fro...\n",
       "1983    1.0  ['Nicola Sturgeon says a second independence r...\n",
       "1984    1.0  [\"Poland 'shocked' by xenophobic abuse of Pole...\n",
       "1985    1.0  [\"S&amp;P cuts United Kingdom sovereign credit..."
      ]
     },
     "execution_count": 115,
     "metadata": {},
     "output_type": "execute_result"
    }
   ],
   "source": [
    "#test data\n",
    "test=df.loc[(pd.to_datetime(df[\"Date\"]) > date(2013,8,15)),['Label','Combined3_10_15_20_25']]\n",
    "test.tail()"
   ]
  },
  {
   "cell_type": "code",
   "execution_count": 116,
   "metadata": {},
   "outputs": [
    {
     "name": "stdout",
     "output_type": "stream",
     "text": [
      "BernoulliNB(alpha=0.5,binarize=0.0)\n",
      "3-days shift, ngram_range=(1, 2),Combined top3, 10, 15, 20, 25\n",
      "             precision    recall  f1-score   support\n",
      "\n",
      "        0.0       0.48      0.47      0.47       338\n",
      "        1.0       0.54      0.55      0.54       384\n",
      "\n",
      "avg / total       0.51      0.51      0.51       722\n",
      "\n",
      "Confussion matrix:\n",
      " [[159 179]\n",
      " [174 210]]\n",
      "ROC-AUC: 0.508644600591716\n"
     ]
    }
   ],
   "source": [
    "#no changes in the pipeline. We just use other data sets\n",
    "#Combined top3, 10... etc\n",
    "bnb_2ngram_pipeline.fit(train['Combined3_10_15_20_25'],train['Label'])\n",
    "predictions = bnb_2ngram_pipeline.predict(test['Combined3_10_15_20_25'])\n",
    "Evaluation ('BernoulliNB(alpha=0.5,binarize=0.0)','3-days shift, ngram_range=(1, 2),Combined top3, 10, 15, 20, 25',test[\"Label\"], predictions)"
   ]
  },
  {
   "cell_type": "code",
   "execution_count": 117,
   "metadata": {},
   "outputs": [
    {
     "data": {
      "text/html": [
       "<div>\n",
       "<style scoped>\n",
       "    .dataframe tbody tr th:only-of-type {\n",
       "        vertical-align: middle;\n",
       "    }\n",
       "\n",
       "    .dataframe tbody tr th {\n",
       "        vertical-align: top;\n",
       "    }\n",
       "\n",
       "    .dataframe thead th {\n",
       "        text-align: right;\n",
       "    }\n",
       "</style>\n",
       "<table border=\"1\" class=\"dataframe\">\n",
       "  <thead>\n",
       "    <tr style=\"text-align: right;\">\n",
       "      <th></th>\n",
       "      <th>Method</th>\n",
       "      <th>Comment</th>\n",
       "      <th>ROC_AUC</th>\n",
       "      <th>Precision</th>\n",
       "      <th>Accuracy</th>\n",
       "      <th>Recall</th>\n",
       "      <th>F1</th>\n",
       "    </tr>\n",
       "  </thead>\n",
       "  <tbody>\n",
       "    <tr>\n",
       "      <th>3</th>\n",
       "      <td>BernoulliNB(alpha=0.5,binarize=0.0)</td>\n",
       "      <td>3-days shift, ngram_range=(1, 2), combined Top...</td>\n",
       "      <td>0.556847</td>\n",
       "      <td>0.608466</td>\n",
       "      <td>0.567823</td>\n",
       "      <td>0.646067</td>\n",
       "      <td>0.626703</td>\n",
       "    </tr>\n",
       "    <tr>\n",
       "      <th>7</th>\n",
       "      <td>BernoulliNB(alpha=0.5,binarize=0.0)</td>\n",
       "      <td>no shift, ngram_range=(1, 2),Combined Top10 an...</td>\n",
       "      <td>0.549357</td>\n",
       "      <td>0.568330</td>\n",
       "      <td>0.557241</td>\n",
       "      <td>0.682292</td>\n",
       "      <td>0.620118</td>\n",
       "    </tr>\n",
       "    <tr>\n",
       "      <th>6</th>\n",
       "      <td>BernoulliNB(alpha=0.5,binarize=0.0)</td>\n",
       "      <td>no shift, ngram_range=(1, 2),Combined Top12 an...</td>\n",
       "      <td>0.538975</td>\n",
       "      <td>0.564677</td>\n",
       "      <td>0.542069</td>\n",
       "      <td>0.591146</td>\n",
       "      <td>0.577608</td>\n",
       "    </tr>\n",
       "    <tr>\n",
       "      <th>4</th>\n",
       "      <td>BernoulliNB(alpha=0.5,binarize=0.0)</td>\n",
       "      <td>no shift, ngram_range=(1, 2),Top1 only</td>\n",
       "      <td>0.534881</td>\n",
       "      <td>0.558621</td>\n",
       "      <td>0.540690</td>\n",
       "      <td>0.632812</td>\n",
       "      <td>0.593407</td>\n",
       "    </tr>\n",
       "    <tr>\n",
       "      <th>5</th>\n",
       "      <td>BernoulliNB(alpha=0.5,binarize=0.0)</td>\n",
       "      <td>no shift, ngram_range=(1, 2),Top25 only</td>\n",
       "      <td>0.523808</td>\n",
       "      <td>0.549425</td>\n",
       "      <td>0.529655</td>\n",
       "      <td>0.622396</td>\n",
       "      <td>0.583639</td>\n",
       "    </tr>\n",
       "    <tr>\n",
       "      <th>2</th>\n",
       "      <td>BernoulliNB(alpha=0.0,binarize=0.0)</td>\n",
       "      <td>1-day shift, ngram_range=(1, 2), combined Top ...</td>\n",
       "      <td>0.515718</td>\n",
       "      <td>0.569444</td>\n",
       "      <td>0.536050</td>\n",
       "      <td>0.691011</td>\n",
       "      <td>0.624365</td>\n",
       "    </tr>\n",
       "    <tr>\n",
       "      <th>10</th>\n",
       "      <td>BernoulliNB(alpha=0.5,binarize=0.0)</td>\n",
       "      <td>3-days shift, ngram_range=(1, 2),Combined top3...</td>\n",
       "      <td>0.508645</td>\n",
       "      <td>0.539846</td>\n",
       "      <td>0.511080</td>\n",
       "      <td>0.546875</td>\n",
       "      <td>0.543338</td>\n",
       "    </tr>\n",
       "    <tr>\n",
       "      <th>9</th>\n",
       "      <td>BernoulliNB(alpha=0.5,binarize=0.0)</td>\n",
       "      <td>3-days shift, ngram_range=(1, 2),Combined Top1...</td>\n",
       "      <td>0.508290</td>\n",
       "      <td>0.539440</td>\n",
       "      <td>0.511080</td>\n",
       "      <td>0.552083</td>\n",
       "      <td>0.545689</td>\n",
       "    </tr>\n",
       "    <tr>\n",
       "      <th>8</th>\n",
       "      <td>BernoulliNB(alpha=0.5,binarize=0.0)</td>\n",
       "      <td>2-days shift, ngram_range=(1, 2),Combined Top3...</td>\n",
       "      <td>0.508216</td>\n",
       "      <td>0.538462</td>\n",
       "      <td>0.511757</td>\n",
       "      <td>0.565104</td>\n",
       "      <td>0.551461</td>\n",
       "    </tr>\n",
       "    <tr>\n",
       "      <th>0</th>\n",
       "      <td>MultinomialNB</td>\n",
       "      <td>no shift, no n-grams, combined Top news</td>\n",
       "      <td>0.500000</td>\n",
       "      <td>0.560784</td>\n",
       "      <td>0.560784</td>\n",
       "      <td>1.000000</td>\n",
       "      <td>0.718593</td>\n",
       "    </tr>\n",
       "    <tr>\n",
       "      <th>1</th>\n",
       "      <td>BernoulliNB(binarize=0.0)</td>\n",
       "      <td>default alpha=1,no shift, ngram_range=(1, 2), ...</td>\n",
       "      <td>0.487450</td>\n",
       "      <td>0.551724</td>\n",
       "      <td>0.509804</td>\n",
       "      <td>0.671329</td>\n",
       "      <td>0.605678</td>\n",
       "    </tr>\n",
       "  </tbody>\n",
       "</table>\n",
       "</div>"
      ],
      "text/plain": [
       "                                 Method  \\\n",
       "3   BernoulliNB(alpha=0.5,binarize=0.0)   \n",
       "7   BernoulliNB(alpha=0.5,binarize=0.0)   \n",
       "6   BernoulliNB(alpha=0.5,binarize=0.0)   \n",
       "4   BernoulliNB(alpha=0.5,binarize=0.0)   \n",
       "5   BernoulliNB(alpha=0.5,binarize=0.0)   \n",
       "2   BernoulliNB(alpha=0.0,binarize=0.0)   \n",
       "10  BernoulliNB(alpha=0.5,binarize=0.0)   \n",
       "9   BernoulliNB(alpha=0.5,binarize=0.0)   \n",
       "8   BernoulliNB(alpha=0.5,binarize=0.0)   \n",
       "0                         MultinomialNB   \n",
       "1             BernoulliNB(binarize=0.0)   \n",
       "\n",
       "                                              Comment   ROC_AUC  Precision  \\\n",
       "3   3-days shift, ngram_range=(1, 2), combined Top...  0.556847   0.608466   \n",
       "7   no shift, ngram_range=(1, 2),Combined Top10 an...  0.549357   0.568330   \n",
       "6   no shift, ngram_range=(1, 2),Combined Top12 an...  0.538975   0.564677   \n",
       "4              no shift, ngram_range=(1, 2),Top1 only  0.534881   0.558621   \n",
       "5             no shift, ngram_range=(1, 2),Top25 only  0.523808   0.549425   \n",
       "2   1-day shift, ngram_range=(1, 2), combined Top ...  0.515718   0.569444   \n",
       "10  3-days shift, ngram_range=(1, 2),Combined top3...  0.508645   0.539846   \n",
       "9   3-days shift, ngram_range=(1, 2),Combined Top1...  0.508290   0.539440   \n",
       "8   2-days shift, ngram_range=(1, 2),Combined Top3...  0.508216   0.538462   \n",
       "0             no shift, no n-grams, combined Top news  0.500000   0.560784   \n",
       "1   default alpha=1,no shift, ngram_range=(1, 2), ...  0.487450   0.551724   \n",
       "\n",
       "    Accuracy    Recall        F1  \n",
       "3   0.567823  0.646067  0.626703  \n",
       "7   0.557241  0.682292  0.620118  \n",
       "6   0.542069  0.591146  0.577608  \n",
       "4   0.540690  0.632812  0.593407  \n",
       "5   0.529655  0.622396  0.583639  \n",
       "2   0.536050  0.691011  0.624365  \n",
       "10  0.511080  0.546875  0.543338  \n",
       "9   0.511080  0.552083  0.545689  \n",
       "8   0.511757  0.565104  0.551461  \n",
       "0   0.560784  1.000000  0.718593  \n",
       "1   0.509804  0.671329  0.605678  "
      ]
     },
     "execution_count": 117,
     "metadata": {},
     "output_type": "execute_result"
    }
   ],
   "source": [
    "df_ScoreSummaryByMethod=DataFrame(ScoreSummaryByMethod,columns=['Method','Comment','ROC_AUC','Precision','Accuracy','Recall','F1'])\n",
    "df_ScoreSummaryByMethod.sort_values(['ROC_AUC'],ascending=False,inplace=True)\n",
    "df_ScoreSummaryByMethod.head(20)"
   ]
  },
  {
   "cell_type": "code",
   "execution_count": 118,
   "metadata": {},
   "outputs": [
    {
     "name": "stdout",
     "output_type": "stream",
     "text": [
      "3     3-days shift, ngram_range=(1, 2), combined Top...\n",
      "7     no shift, ngram_range=(1, 2),Combined Top10 an...\n",
      "6     no shift, ngram_range=(1, 2),Combined Top12 an...\n",
      "4                no shift, ngram_range=(1, 2),Top1 only\n",
      "5               no shift, ngram_range=(1, 2),Top25 only\n",
      "2     1-day shift, ngram_range=(1, 2), combined Top ...\n",
      "10    3-days shift, ngram_range=(1, 2),Combined top3...\n",
      "9     3-days shift, ngram_range=(1, 2),Combined Top1...\n",
      "8     2-days shift, ngram_range=(1, 2),Combined Top3...\n",
      "0               no shift, no n-grams, combined Top news\n",
      "1     default alpha=1,no shift, ngram_range=(1, 2), ...\n",
      "Name: Comment, dtype: object\n"
     ]
    }
   ],
   "source": [
    "print(df_ScoreSummaryByMethod['Comment'])"
   ]
  }
 ],
 "metadata": {
  "kernelspec": {
   "display_name": "Python 3",
   "language": "python",
   "name": "python3"
  },
  "language_info": {
   "codemirror_mode": {
    "name": "ipython",
    "version": 3
   },
   "file_extension": ".py",
   "mimetype": "text/x-python",
   "name": "python",
   "nbconvert_exporter": "python",
   "pygments_lexer": "ipython3",
   "version": "3.7.3"
  }
 },
 "nbformat": 4,
 "nbformat_minor": 4
}
