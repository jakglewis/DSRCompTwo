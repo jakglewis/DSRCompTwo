{
 "cells": [
  {
   "cell_type": "code",
   "execution_count": 1,
   "metadata": {},
   "outputs": [],
   "source": [
    "import BoW\n",
    "import pandas as pd\n",
    "import os.path\n",
    "import datetime\n",
    "from sklearn.model_selection import train_test_split"
   ]
  },
  {
   "cell_type": "code",
   "execution_count": 2,
   "metadata": {},
   "outputs": [],
   "source": [
    "# Data Loading\n",
    "path = os.getcwd()\n",
    "parent_folder, current_folder = os.path.split(path)\n",
    "df = pd.read_csv(parent_folder + '/0.Raw_data/train/Combined_News_DJIA_train.csv')   # please check if Training data is in the same location on your PC"
   ]
  },
  {
   "cell_type": "code",
   "execution_count": 3,
   "metadata": {},
   "outputs": [],
   "source": [
    "# Data Cleaning and merging all headlines to one single column\n",
    "\n",
    "subdf = df.iloc[:,2:27] \n",
    "subdf = subdf.applymap(str)\n",
    "s = subdf.apply(lambda x: ' '.join(x), axis=1)\n",
    "\n",
    "# replace the b' and b\" which are in the beginning of some headlines\n",
    "s = s.str.replace(\"b'\",\"\")\n",
    "s = s.str.replace('b\"','')\n",
    "\n",
    "# create a new dataframe with all headlines and the overall word count\n",
    "df1 = s.to_frame(name='headlines')\n",
    "#df1['lengths'] = df1['headlines'].apply(len)\n",
    "df1['date'] = pd.to_datetime(df['Date'])"
   ]
  },
  {
   "cell_type": "code",
   "execution_count": 4,
   "metadata": {},
   "outputs": [
    {
     "data": {
      "text/plain": [
       "headlines            object\n",
       "date         datetime64[ns]\n",
       "dtype: object"
      ]
     },
     "execution_count": 4,
     "metadata": {},
     "output_type": "execute_result"
    }
   ],
   "source": [
    "df1.dtypes"
   ]
  },
  {
   "cell_type": "code",
   "execution_count": 5,
   "metadata": {},
   "outputs": [],
   "source": [
    "X_train, X_val, y_train, y_val = train_test_split(df1, df['Label'], test_size=0.20, random_state=42)"
   ]
  },
  {
   "cell_type": "code",
   "execution_count": 6,
   "metadata": {},
   "outputs": [
    {
     "data": {
      "text/plain": [
       "<1267x10274 sparse matrix of type '<class 'numpy.int64'>'\n",
       "\twith 283559 stored elements in Compressed Sparse Row format>"
      ]
     },
     "execution_count": 6,
     "metadata": {},
     "output_type": "execute_result"
    }
   ],
   "source": [
    "# Encoding the training data set\n",
    "df_encode = BoW.bow_encoding(X_train['headlines'])\n",
    "df_encode"
   ]
  },
  {
   "cell_type": "code",
   "execution_count": 7,
   "metadata": {},
   "outputs": [
    {
     "data": {
      "text/plain": [
       "<317x10274 sparse matrix of type '<class 'numpy.int64'>'\n",
       "\twith 69230 stored elements in Compressed Sparse Row format>"
      ]
     },
     "execution_count": 7,
     "metadata": {},
     "output_type": "execute_result"
    }
   ],
   "source": [
    "# transforming\n",
    "df_encode_val = BoW.bow_encoding_val(X_val['headlines'])\n",
    "df_encode_val"
   ]
  },
  {
   "cell_type": "code",
   "execution_count": 8,
   "metadata": {},
   "outputs": [
    {
     "data": {
      "text/plain": [
       "<1267x10274 sparse matrix of type '<class 'numpy.float64'>'\n",
       "\twith 283559 stored elements in Compressed Sparse Row format>"
      ]
     },
     "execution_count": 8,
     "metadata": {},
     "output_type": "execute_result"
    }
   ],
   "source": [
    "df_encode_TFIDF = BoW.tfidf_encoding(X_train['headlines'])\n",
    "df_encode_TFIDF"
   ]
  },
  {
   "cell_type": "code",
   "execution_count": null,
   "metadata": {},
   "outputs": [],
   "source": [
    "df_encode_TFIDF_val = BoW.tfidf_encoding_val(X_val['headlines'])\n",
    "df_encode_TFIDF_val"
   ]
  },
  {
   "cell_type": "code",
   "execution_count": null,
   "metadata": {},
   "outputs": [],
   "source": []
  }
 ],
 "metadata": {
  "kernelspec": {
   "display_name": "Python 3",
   "language": "python",
   "name": "python3"
  },
  "language_info": {
   "codemirror_mode": {
    "name": "ipython",
    "version": 3
   },
   "file_extension": ".py",
   "mimetype": "text/x-python",
   "name": "python",
   "nbconvert_exporter": "python",
   "pygments_lexer": "ipython3",
   "version": "3.6.9"
  }
 },
 "nbformat": 4,
 "nbformat_minor": 4
}
