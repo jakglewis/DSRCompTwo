{
 "cells": [
  {
   "cell_type": "code",
   "execution_count": 10,
   "metadata": {},
   "outputs": [],
   "source": [
    "import BoW\n",
    "import pandas as pd\n",
    "import os.path\n",
    "import datetime\n",
    "from sklearn.model_selection import train_test_split"
   ]
  },
  {
   "cell_type": "code",
   "execution_count": 11,
   "metadata": {},
   "outputs": [],
   "source": [
    "# Data Loading\n",
    "path = os.getcwd()\n",
    "parent_folder, current_folder = os.path.split(path)\n",
    "df = pd.read_csv(parent_folder + '/0.Raw_data/train/Combined_News_DJIA_train.csv')   # please check if Training data is in the same location on your PC"
   ]
  },
  {
   "cell_type": "code",
   "execution_count": 3,
   "metadata": {},
   "outputs": [],
   "source": [
    "# Data Cleaning and merging all headlines to one single column\n",
    "\n",
    "subdf = df.iloc[:,2:27] \n",
    "subdf = subdf.applymap(str)\n",
    "s = subdf.apply(lambda x: ' '.join(x), axis=1)\n",
    "\n",
    "# replace the b' and b\" which are in the beginning of some headlines\n",
    "s = s.str.replace(\"b'\",\"\")\n",
    "s = s.str.replace('b\"','')\n",
    "\n",
    "# create a new dataframe with all headlines and the overall word count\n",
    "df1 = s.to_frame(name='headlines')\n",
    "#df1['lengths'] = df1['headlines'].apply(len)\n",
    "df1['date'] = pd.to_datetime(df['Date'])"
   ]
  },
  {
   "cell_type": "code",
   "execution_count": 4,
   "metadata": {},
   "outputs": [
    {
     "data": {
      "text/plain": [
       "headlines            object\n",
       "date         datetime64[ns]\n",
       "dtype: object"
      ]
     },
     "execution_count": 4,
     "metadata": {},
     "output_type": "execute_result"
    }
   ],
   "source": [
    "df1.dtypes"
   ]
  },
  {
   "cell_type": "code",
   "execution_count": 12,
   "metadata": {},
   "outputs": [],
   "source": [
    "#X_train, X_val, y_train, y_val = train_test_split(df1, df['Label'], test_size=0.2, random_state=42)"
   ]
  },
  {
   "cell_type": "code",
   "execution_count": 19,
   "metadata": {},
   "outputs": [],
   "source": [
    "val_size = 0.2\n",
    "train_length = len(df1)*(1-val_size)\n",
    "train = df1.loc[:train_length,:]\n",
    "val = df1.loc[train_length:,:]"
   ]
  },
  {
   "cell_type": "code",
   "execution_count": 27,
   "metadata": {},
   "outputs": [
    {
     "data": {
      "text/html": [
       "<div>\n",
       "<style scoped>\n",
       "    .dataframe tbody tr th:only-of-type {\n",
       "        vertical-align: middle;\n",
       "    }\n",
       "\n",
       "    .dataframe tbody tr th {\n",
       "        vertical-align: top;\n",
       "    }\n",
       "\n",
       "    .dataframe thead th {\n",
       "        text-align: right;\n",
       "    }\n",
       "</style>\n",
       "<table border=\"1\" class=\"dataframe\">\n",
       "  <thead>\n",
       "    <tr style=\"text-align: right;\">\n",
       "      <th></th>\n",
       "      <th>headlines</th>\n",
       "      <th>lengths</th>\n",
       "      <th>label</th>\n",
       "      <th>date</th>\n",
       "    </tr>\n",
       "  </thead>\n",
       "  <tbody>\n",
       "    <tr>\n",
       "      <td>1268</td>\n",
       "      <td>An Indian spiritual leader who sparked controv...</td>\n",
       "      <td>3072</td>\n",
       "      <td>1.0</td>\n",
       "      <td>2013-08-22</td>\n",
       "    </tr>\n",
       "    <tr>\n",
       "      <td>1269</td>\n",
       "      <td>Orders To Destroy Guardian Hard Drives Came Di...</td>\n",
       "      <td>3054</td>\n",
       "      <td>1.0</td>\n",
       "      <td>2013-08-23</td>\n",
       "    </tr>\n",
       "    <tr>\n",
       "      <td>1270</td>\n",
       "      <td>Exclusive: CIA Files Prove America Helped Sadd...</td>\n",
       "      <td>3805</td>\n",
       "      <td>0.0</td>\n",
       "      <td>2013-08-26</td>\n",
       "    </tr>\n",
       "    <tr>\n",
       "      <td>1271</td>\n",
       "      <td>Hans Blix: Whether Obama in Syria or Bush in I...</td>\n",
       "      <td>2221</td>\n",
       "      <td>0.0</td>\n",
       "      <td>2013-08-27</td>\n",
       "    </tr>\n",
       "    <tr>\n",
       "      <td>1272</td>\n",
       "      <td>A campaign has been launched to encourage the ...</td>\n",
       "      <td>2392</td>\n",
       "      <td>1.0</td>\n",
       "      <td>2013-08-28</td>\n",
       "    </tr>\n",
       "  </tbody>\n",
       "</table>\n",
       "</div>"
      ],
      "text/plain": [
       "                                              headlines  lengths  label  \\\n",
       "1268  An Indian spiritual leader who sparked controv...     3072    1.0   \n",
       "1269  Orders To Destroy Guardian Hard Drives Came Di...     3054    1.0   \n",
       "1270  Exclusive: CIA Files Prove America Helped Sadd...     3805    0.0   \n",
       "1271  Hans Blix: Whether Obama in Syria or Bush in I...     2221    0.0   \n",
       "1272  A campaign has been launched to encourage the ...     2392    1.0   \n",
       "\n",
       "           date  \n",
       "1268 2013-08-22  \n",
       "1269 2013-08-23  \n",
       "1270 2013-08-26  \n",
       "1271 2013-08-27  \n",
       "1272 2013-08-28  "
      ]
     },
     "execution_count": 27,
     "metadata": {},
     "output_type": "execute_result"
    }
   ],
   "source": [
    "val.head()"
   ]
  },
  {
   "cell_type": "code",
   "execution_count": 28,
   "metadata": {},
   "outputs": [
    {
     "name": "stdout",
     "output_type": "stream",
     "text": [
      "1268\n",
      "316\n"
     ]
    }
   ],
   "source": [
    "print(len(train))\n",
    "print(len(val))\n",
    "\n",
    "X_train = train.loc[:,train.columns != 'label']\n",
    "X_val = val.loc[:,val.columns != 'label']\n",
    "y_train = train['label']\n",
    "y_val = val['label']"
   ]
  },
  {
   "cell_type": "code",
   "execution_count": 21,
   "metadata": {},
   "outputs": [
    {
     "data": {
      "text/html": [
       "<div>\n",
       "<style scoped>\n",
       "    .dataframe tbody tr th:only-of-type {\n",
       "        vertical-align: middle;\n",
       "    }\n",
       "\n",
       "    .dataframe tbody tr th {\n",
       "        vertical-align: top;\n",
       "    }\n",
       "\n",
       "    .dataframe thead th {\n",
       "        text-align: right;\n",
       "    }\n",
       "</style>\n",
       "<table border=\"1\" class=\"dataframe\">\n",
       "  <thead>\n",
       "    <tr style=\"text-align: right;\">\n",
       "      <th></th>\n",
       "      <th>headlines</th>\n",
       "      <th>lengths</th>\n",
       "      <th>label</th>\n",
       "      <th>date</th>\n",
       "    </tr>\n",
       "  </thead>\n",
       "  <tbody>\n",
       "    <tr>\n",
       "      <td>0</td>\n",
       "      <td>Georgia 'downs two Russian warplanes' as count...</td>\n",
       "      <td>2187</td>\n",
       "      <td>0.0</td>\n",
       "      <td>2008-08-08</td>\n",
       "    </tr>\n",
       "    <tr>\n",
       "      <td>1</td>\n",
       "      <td>Why wont America and Nato help us? If they won...</td>\n",
       "      <td>1566</td>\n",
       "      <td>1.0</td>\n",
       "      <td>2008-08-11</td>\n",
       "    </tr>\n",
       "    <tr>\n",
       "      <td>2</td>\n",
       "      <td>Remember that adorable 9-year-old who sang at ...</td>\n",
       "      <td>2111</td>\n",
       "      <td>0.0</td>\n",
       "      <td>2008-08-12</td>\n",
       "    </tr>\n",
       "    <tr>\n",
       "      <td>3</td>\n",
       "      <td>U.S. refuses Israel weapons to attack Iran: r...</td>\n",
       "      <td>1864</td>\n",
       "      <td>0.0</td>\n",
       "      <td>2008-08-13</td>\n",
       "    </tr>\n",
       "    <tr>\n",
       "      <td>4</td>\n",
       "      <td>All the experts admit that we should legalise ...</td>\n",
       "      <td>1785</td>\n",
       "      <td>1.0</td>\n",
       "      <td>2008-08-14</td>\n",
       "    </tr>\n",
       "  </tbody>\n",
       "</table>\n",
       "</div>"
      ],
      "text/plain": [
       "                                           headlines  lengths  label  \\\n",
       "0  Georgia 'downs two Russian warplanes' as count...     2187    0.0   \n",
       "1  Why wont America and Nato help us? If they won...     1566    1.0   \n",
       "2  Remember that adorable 9-year-old who sang at ...     2111    0.0   \n",
       "3   U.S. refuses Israel weapons to attack Iran: r...     1864    0.0   \n",
       "4  All the experts admit that we should legalise ...     1785    1.0   \n",
       "\n",
       "        date  \n",
       "0 2008-08-08  \n",
       "1 2008-08-11  \n",
       "2 2008-08-12  \n",
       "3 2008-08-13  \n",
       "4 2008-08-14  "
      ]
     },
     "execution_count": 21,
     "metadata": {},
     "output_type": "execute_result"
    }
   ],
   "source": [
    "df1.head()"
   ]
  },
  {
   "cell_type": "code",
   "execution_count": 40,
   "metadata": {},
   "outputs": [
    {
     "data": {
      "text/plain": [
       "<1268x10225 sparse matrix of type '<class 'numpy.int64'>'\n",
       "\twith 280329 stored elements in Compressed Sparse Row format>"
      ]
     },
     "execution_count": 40,
     "metadata": {},
     "output_type": "execute_result"
    }
   ],
   "source": [
    "# Encoding the training data set\n",
    "df_encode = BoW.bow_encoding(X_train['headlines'])\n",
    "df_encode"
   ]
  },
  {
   "cell_type": "code",
   "execution_count": 48,
   "metadata": {},
   "outputs": [],
   "source": [
    "def bow_encoding_val(s):\n",
    "    '''\n",
    "    Takes a pandas Series and transforms the strings to a Bag of Words matrix\n",
    "    :param s: pandas series\n",
    "    :return: Numpy Matrix\n",
    "    '''\n",
    "    import pickle\n",
    "    with open('CountVectorizer.pk', 'rb') as f:\n",
    "        BoW_WN = pickle.load(f)\n",
    "    BoW_WN_matrix = BoW_WN.transform(s)\n",
    "\n",
    "    return BoW_WN_matrix\n",
    "\n",
    "\n",
    "def tfidf_encoding_val(s):\n",
    "    '''\n",
    "    Takes a series of Texts and transforms the strings to a TFIDF matrix\n",
    "    :param s: pandas series\n",
    "    :return: Numpy Matrix\n",
    "    '''\n",
    "    import pickle\n",
    "    with open('TFIDFVectorizer.pk', 'rb') as f:\n",
    "        tfidf_vectorizer_WN = pickle.load(f)\n",
    "    tfidf_WN_matrix = tfidf_vectorizer_WN.transform(s)\n",
    "\n",
    "    return tfidf_WN_matrix"
   ]
  },
  {
   "cell_type": "code",
   "execution_count": 38,
   "metadata": {},
   "outputs": [
    {
     "data": {
      "text/plain": [
       "<316x10225 sparse matrix of type '<class 'numpy.int64'>'\n",
       "\twith 71748 stored elements in Compressed Sparse Row format>"
      ]
     },
     "execution_count": 38,
     "metadata": {},
     "output_type": "execute_result"
    }
   ],
   "source": [
    "# transforming\n",
    "#from BoW import bow_encoding_val\n",
    "df_encode_val = bow_encoding_val(X_val['headlines'])\n",
    "df_encode_val"
   ]
  },
  {
   "cell_type": "code",
   "execution_count": 43,
   "metadata": {},
   "outputs": [
    {
     "data": {
      "text/plain": [
       "<1268x10225 sparse matrix of type '<class 'numpy.float64'>'\n",
       "\twith 280329 stored elements in Compressed Sparse Row format>"
      ]
     },
     "execution_count": 43,
     "metadata": {},
     "output_type": "execute_result"
    }
   ],
   "source": [
    "df_encode_TFIDF = BoW.tfidf_encoding(X_train['headlines'])\n",
    "df_encode_TFIDF"
   ]
  },
  {
   "cell_type": "code",
   "execution_count": 49,
   "metadata": {},
   "outputs": [
    {
     "data": {
      "text/plain": [
       "<316x10225 sparse matrix of type '<class 'numpy.float64'>'\n",
       "\twith 71748 stored elements in Compressed Sparse Row format>"
      ]
     },
     "execution_count": 49,
     "metadata": {},
     "output_type": "execute_result"
    }
   ],
   "source": [
    "df_encode_TFIDF_val = tfidf_encoding_val(X_val['headlines'])\n",
    "df_encode_TFIDF_val"
   ]
  },
  {
   "cell_type": "code",
   "execution_count": 51,
   "metadata": {},
   "outputs": [],
   "source": [
    "X_bow_train= pd.DataFrame(df_encode.toarray())\n",
    "X_bow_val= pd.DataFrame(df_encode_val.toarray())\n",
    "X_TFIDF_train= pd.DataFrame(df_encode_TFIDF.toarray())\n",
    "X_TFIDF_val= pd.DataFrame(df_encode_TFIDF_val.toarray())"
   ]
  },
  {
   "cell_type": "code",
   "execution_count": 59,
   "metadata": {},
   "outputs": [],
   "source": [
    "Y_train = train['label']\n",
    "Y_val = val['label']"
   ]
  },
  {
   "cell_type": "code",
   "execution_count": 53,
   "metadata": {},
   "outputs": [
    {
     "data": {
      "text/plain": [
       "'C:\\\\Users\\\\lundr\\\\DSRCompTwo\\\\2.Feature_engineering'"
      ]
     },
     "execution_count": 53,
     "metadata": {},
     "output_type": "execute_result"
    }
   ],
   "source": [
    "import os\n",
    "os.getcwd()"
   ]
  },
  {
   "cell_type": "code",
   "execution_count": 54,
   "metadata": {},
   "outputs": [],
   "source": [
    "import os\n",
    "os.chdir('..')"
   ]
  },
  {
   "cell_type": "code",
   "execution_count": 61,
   "metadata": {},
   "outputs": [],
   "source": [
    "X_bow_train.to_csv('4.Data/X_bow_train_v1.csv')\n",
    "X_bow_val.to_csv('4.Data/X_bow_val_v1.csv')\n",
    "X_TFIDF_train.to_csv('4.Data/X_TFIDF_train_v1.csv')\n",
    "X_TFIDF_val.to_csv('4.Data/X_TFIDF_val_v1.csv')\n",
    "\n"
   ]
  },
  {
   "cell_type": "code",
   "execution_count": 62,
   "metadata": {},
   "outputs": [
    {
     "name": "stderr",
     "output_type": "stream",
     "text": [
      "C:\\Users\\lundr\\AppData\\Local\\Continuum\\anaconda3\\envs\\dl\\lib\\site-packages\\ipykernel_launcher.py:1: FutureWarning: The signature of `Series.to_csv` was aligned to that of `DataFrame.to_csv`, and argument 'header' will change its default value from False to True: please pass an explicit value to suppress this warning.\n",
      "  \"\"\"Entry point for launching an IPython kernel.\n",
      "C:\\Users\\lundr\\AppData\\Local\\Continuum\\anaconda3\\envs\\dl\\lib\\site-packages\\ipykernel_launcher.py:2: FutureWarning: The signature of `Series.to_csv` was aligned to that of `DataFrame.to_csv`, and argument 'header' will change its default value from False to True: please pass an explicit value to suppress this warning.\n",
      "  \n"
     ]
    }
   ],
   "source": [
    "Y_train.to_csv('4.Data/Y_train_v1.csv')\n",
    "Y_val.to_csv('4.Data/Y_val_v1.csv')"
   ]
  },
  {
   "cell_type": "code",
   "execution_count": 60,
   "metadata": {},
   "outputs": [
    {
     "data": {
      "text/plain": [
       "1268"
      ]
     },
     "execution_count": 60,
     "metadata": {},
     "output_type": "execute_result"
    }
   ],
   "source": [
    "len(Y_train)"
   ]
  },
  {
   "cell_type": "code",
   "execution_count": null,
   "metadata": {},
   "outputs": [],
   "source": []
  }
 ],
 "metadata": {
  "kernelspec": {
   "display_name": "Python 3",
   "language": "python",
   "name": "python3"
  },
  "language_info": {
   "codemirror_mode": {
    "name": "ipython",
    "version": 3
   },
   "file_extension": ".py",
   "mimetype": "text/x-python",
   "name": "python",
   "nbconvert_exporter": "python",
   "pygments_lexer": "ipython3",
   "version": "3.7.4"
  }
 },
 "nbformat": 4,
 "nbformat_minor": 4
}
